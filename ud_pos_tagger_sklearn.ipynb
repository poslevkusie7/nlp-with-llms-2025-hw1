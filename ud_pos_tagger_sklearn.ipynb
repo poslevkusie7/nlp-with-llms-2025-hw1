{
 "cells": [
  {
   "cell_type": "markdown",
   "metadata": {},
   "source": [
    "# POS Tagger Trained on the UD Treebank"
   ]
  },
  {
   "cell_type": "markdown",
   "metadata": {},
   "source": [
    "Adapted from https://github.com/soutsios/pos_tagger_mlp/blob/master/pos_tagger_mlp.ipynb "
   ]
  },
  {
   "cell_type": "code",
   "execution_count": 1,
   "metadata": {},
   "outputs": [],
   "source": [
    "import pyconll, nltk, datetime, warnings\n",
    "import numpy as np\n",
    "from scipy.sparse import vstack\n",
    "import matplotlib.pyplot as plt\n",
    "from sklearn.feature_extraction import DictVectorizer\n",
    "from sklearn.linear_model import LogisticRegression\n",
    "from sklearn.metrics import classification_report, accuracy_score, confusion_matrix, f1_score\n",
    "from sklearn.model_selection import StratifiedKFold, GridSearchCV, learning_curve\n",
    "from sklearn.exceptions import UndefinedMetricWarning\n",
    "warnings.filterwarnings(action='ignore', category=UndefinedMetricWarning)\n",
    "from numpy.random import seed"
   ]
  },
  {
   "cell_type": "markdown",
   "metadata": {},
   "source": [
    "# Plot Functions\n",
    "\n",
    "These functions are useful to visualize the training dynamics of the learning algorithm and the confusion matrix of the trained models."
   ]
  },
  {
   "cell_type": "code",
   "execution_count": 2,
   "metadata": {},
   "outputs": [],
   "source": [
    "def plot_learning_curve(estimator, title, X, y, ylim=None, cv=None,\n",
    "                        n_jobs=None, train_sizes=np.linspace(.1, 1.0, 5)):\n",
    "    plt.title(title)\n",
    "    if ylim is not None:\n",
    "        plt.ylim(*ylim)\n",
    "    plt.xlabel(\"Training examples\")\n",
    "    plt.ylabel(\"Accuracy\")\n",
    "    train_sizes, train_scores, test_scores = learning_curve(\n",
    "        estimator, X, y, cv=cv, n_jobs=n_jobs, train_sizes=train_sizes, scoring='accuracy')\n",
    "    train_scores_mean = np.mean(train_scores, axis=1)\n",
    "    train_scores_std = np.std(train_scores, axis=1)\n",
    "    test_scores_mean = np.mean(test_scores, axis=1)\n",
    "    test_scores_std = np.std(test_scores, axis=1)\n",
    "    plt.grid()\n",
    "\n",
    "    plt.fill_between(train_sizes, train_scores_mean - train_scores_std,\n",
    "                     train_scores_mean + train_scores_std, alpha=0.1,\n",
    "                     color=\"r\")\n",
    "    plt.fill_between(train_sizes, test_scores_mean - test_scores_std,\n",
    "                     test_scores_mean + test_scores_std, alpha=0.1, color=\"g\")\n",
    "    plt.plot(train_sizes, train_scores_mean, 'o-', color=\"r\",\n",
    "             label=\"Training score\")\n",
    "    plt.plot(train_sizes, test_scores_mean, 'o-', color=\"g\",\n",
    "             label=\"Cross-validation score\")\n",
    "\n",
    "    plt.legend(loc=\"best\")\n",
    "    return plt"
   ]
  },
  {
   "cell_type": "code",
   "execution_count": 3,
   "metadata": {},
   "outputs": [],
   "source": [
    "def plot_confusion_matrix(f1,\n",
    "                          cm,\n",
    "                          target_names,\n",
    "                          title='Confusion matrix',\n",
    "                          cmap=None,\n",
    "                          normalize=True,\n",
    "                          i=1):\n",
    "    \"\"\"\n",
    "    given a sklearn confusion matrix (cm), make a nice plot\n",
    "\n",
    "    Arguments\n",
    "    ---------\n",
    "    cm:           confusion matrix from sklearn.metrics.confusion_matrix\n",
    "\n",
    "    target_names: given classification classes such as [0, 1, 2]\n",
    "                  the class names, for example: ['high', 'medium', 'low']\n",
    "\n",
    "    title:        the text to display at the top of the matrix\n",
    "\n",
    "    cmap:         the gradient of the values displayed from matplotlib.pyplot.cm\n",
    "                  see http://matplotlib.org/examples/color/colormaps_reference.html\n",
    "                  plt.get_cmap('jet') or plt.cm.Blues\n",
    "\n",
    "    normalize:    If False, plot the raw numbers\n",
    "                  If True, plot the proportions\n",
    "\n",
    "    Usage\n",
    "    -----\n",
    "    plot_confusion_matrix(cm           = cm,                  # confusion matrix created by\n",
    "                                                              # sklearn.metrics.confusion_matrix\n",
    "                          normalize    = True,                # show proportions\n",
    "                          target_names = y_labels_vals,       # list of names of the classes\n",
    "                          title        = best_estimator_name) # title of graph\n",
    "\n",
    "    Citiation\n",
    "    ---------\n",
    "    http://scikit-learn.org/stable/auto_examples/model_selection/plot_confusion_matrix.html\n",
    "\n",
    "    \"\"\"\n",
    "    import matplotlib.pyplot as plt\n",
    "    import numpy as np\n",
    "    import itertools\n",
    "\n",
    "    accuracy = np.trace(cm) / float(np.sum(cm))\n",
    "    misclass = 1 - accuracy\n",
    "    plt.figure(figsize=(10, 6))\n",
    "    if cmap is None:\n",
    "        cmap = plt.get_cmap('Blues')\n",
    "\n",
    "    plt.imshow(cm, interpolation='nearest', cmap=cmap)\n",
    "    plt.title(title)\n",
    "    plt.colorbar()\n",
    "\n",
    "    if target_names is not None:\n",
    "        tick_marks = np.arange(len(target_names))\n",
    "        plt.xticks(tick_marks, target_names, rotation=45)\n",
    "        plt.yticks(tick_marks, target_names)\n",
    "\n",
    "    if normalize:\n",
    "        cm = cm.astype('float') / cm.sum(axis=1)[:, np.newaxis]\n",
    "\n",
    "\n",
    "    thresh = cm.max() / 1.5 if normalize else cm.max() / 2\n",
    "    for i, j in itertools.product(range(cm.shape[0]), range(cm.shape[1])):\n",
    "        if normalize:\n",
    "            plt.text(j, i, \"{:0.4f}\".format(cm[i, j]),\n",
    "                     horizontalalignment=\"center\",\n",
    "                     color=\"white\" if cm[i, j] > thresh else \"black\")\n",
    "        else:\n",
    "            plt.text(j, i, \"{:,}\".format(cm[i, j]),\n",
    "                     horizontalalignment=\"center\",\n",
    "                     color=\"white\" if cm[i, j] > thresh else \"black\")\n",
    "\n",
    "\n",
    "    plt.tight_layout()\n",
    "    plt.ylabel('True label')\n",
    "    plt.xlabel('Predicted label\\naccuracy={:0.4f}; misclass={:0.4f}; f1-score={:0.4f}'.format(accuracy, misclass, f1))"
   ]
  },
  {
   "cell_type": "markdown",
   "metadata": {},
   "source": [
    "# Load Dataset"
   ]
  },
  {
   "cell_type": "code",
   "execution_count": 4,
   "metadata": {},
   "outputs": [],
   "source": [
    "UD_ENGLISH_TRAIN = '../UD_English-EWT/en_ewt-ud-train.conllu'\n",
    "UD_ENGLISH_DEV = '../UD_English-EWT/en_ewt-ud-dev.conllu'\n",
    "UD_ENGLISH_TEST = '../UD_English-EWT/en_ewt-ud-test.conllu'"
   ]
  },
  {
   "cell_type": "markdown",
   "metadata": {},
   "source": [
    "# Preprocessing"
   ]
  },
  {
   "cell_type": "code",
   "execution_count": 5,
   "metadata": {},
   "outputs": [],
   "source": [
    "def read_conllu(path):\n",
    "    data = pyconll.load_from_file(path)\n",
    "    tagged_sentences=[]\n",
    "    original_sentences=[]\n",
    "    t=0\n",
    "    for sentence in data:\n",
    "        original_sentences.append(sentence.text)\n",
    "        tagged_sentence=[]\n",
    "        for token in sentence:\n",
    "            if token.upos:\n",
    "                t+=1\n",
    "                tagged_sentence.append((token.form if token.form else '*None*', token.upos))\n",
    "        tagged_sentences.append(tagged_sentence)\n",
    "    return tagged_sentences, original_sentences"
   ]
  },
  {
   "cell_type": "markdown",
   "metadata": {},
   "source": [
    "Load train, development and test set in the appropriate tagged format, tuple (word, pos-tag)"
   ]
  },
  {
   "cell_type": "code",
   "execution_count": 6,
   "metadata": {},
   "outputs": [],
   "source": [
    "train_sentences, train_original = read_conllu(UD_ENGLISH_TRAIN)\n",
    "val_sentences, val_original = read_conllu(UD_ENGLISH_DEV)\n",
    "test_sentences, test_original = read_conllu(UD_ENGLISH_TEST)"
   ]
  },
  {
   "cell_type": "markdown",
   "metadata": {},
   "source": [
    "Print statistics"
   ]
  },
  {
   "cell_type": "code",
   "execution_count": 7,
   "metadata": {},
   "outputs": [
    {
     "name": "stdout",
     "output_type": "stream",
     "text": [
      "Tagged sentences in train set:  12544\n",
      "Tagged words in train set: 204616\n",
      "========================================\n",
      "Tagged sentences in dev set:  2001\n",
      "Tagged words in dev set: 25153\n",
      "========================================\n",
      "Tagged sentences in test set:  2077\n",
      "Tagged words in test set: 25096\n"
     ]
    }
   ],
   "source": [
    "print(\"Tagged sentences in train set: \", len(train_sentences))\n",
    "print(\"Tagged words in train set:\", len([item for sublist in train_sentences for item in sublist]))\n",
    "print(40*'=')\n",
    "print(\"Tagged sentences in dev set: \", len(val_sentences))\n",
    "print(\"Tagged words in dev set:\", len([item for sublist in val_sentences for item in sublist]))\n",
    "print(40*'=')\n",
    "print(\"Tagged sentences in test set: \", len(test_sentences))\n",
    "print(\"Tagged words in test set:\", len([item for sublist in test_sentences for item in sublist]))"
   ]
  },
  {
   "cell_type": "code",
   "execution_count": 8,
   "metadata": {},
   "outputs": [
    {
     "name": "stdout",
     "output_type": "stream",
     "text": [
      "[('Al', 'PROPN'), ('-', 'PUNCT'), ('Zaman', 'PROPN'), (':', 'PUNCT'), ('American', 'ADJ'), ('forces', 'NOUN'), ('killed', 'VERB'), ('Shaikh', 'PROPN'), ('Abdullah', 'PROPN'), ('al', 'PROPN'), ('-', 'PUNCT'), ('Ani', 'PROPN'), (',', 'PUNCT'), ('the', 'DET'), ('preacher', 'NOUN'), ('at', 'ADP'), ('the', 'DET'), ('mosque', 'NOUN'), ('in', 'ADP'), ('the', 'DET'), ('town', 'NOUN'), ('of', 'ADP'), ('Qaim', 'PROPN'), (',', 'PUNCT'), ('near', 'ADP'), ('the', 'DET'), ('Syrian', 'ADJ'), ('border', 'NOUN'), ('.', 'PUNCT')]\n"
     ]
    }
   ],
   "source": [
    "print(train_sentences[0])"
   ]
  },
  {
   "cell_type": "code",
   "execution_count": 9,
   "metadata": {},
   "outputs": [],
   "source": [
    "def tag_sequence(sentences):\n",
    "    return [[t for w, t in sentence] for sentence in sentences]\n",
    "\n",
    "def text_sequence(sentences):\n",
    "    return [[w for w, t in sentence] for sentence in sentences]\n",
    "\n",
    "def id2word(sentences):\n",
    "    wordlist = [item for sublist in text_sequence(sentences) for item in sublist]\n",
    "    id2word = {k:v for k,v in enumerate(wordlist)}\n",
    "    return id2word\n",
    "\n",
    "def untag(tagged_sentence):\n",
    "    return [w for w, _ in tagged_sentence]\n",
    "\n",
    "def untag_pos(tagged_sentence):\n",
    "    return [t for _, t in tagged_sentence]\n",
    "\n",
    "def build_vocab(sentences):\n",
    "    vocab =set()\n",
    "    for sentence in sentences:\n",
    "        for word in untag(sentence):\n",
    "            vocab.add(word)\n",
    "    return sorted(list(vocab))"
   ]
  },
  {
   "cell_type": "markdown",
   "metadata": {},
   "source": [
    "An important observation: how many terms are in validation set and not found in train set? (This estimates the Out-of-vocabulary rate.)"
   ]
  },
  {
   "cell_type": "code",
   "execution_count": 10,
   "metadata": {},
   "outputs": [
    {
     "name": "stdout",
     "output_type": "stream",
     "text": [
      "Number of terms not found in train set: 1661\n"
     ]
    }
   ],
   "source": [
    "list_1 = build_vocab(train_sentences)\n",
    "list_2 = build_vocab(val_sentences)\n",
    "diff_list = [item for item in list_2 if item not in list_1]\n",
    "print('Number of terms not found in train set:',len(diff_list))"
   ]
  },
  {
   "cell_type": "markdown",
   "metadata": {},
   "source": [
    "# Feature Engineering\n",
    "\n",
    "We use the \"classical\" machine learning approach: we will train a token classifier model. The classifier gets as input a feature vector describing each token in the sentence. We decide a priori which features are informative to make the tagging decision. In this case, we use a combination of \"word shape\" features which approximate morphological knowledge. We naturally also include lexical information (the token form itself), and some form of \"syntactic knowledge\" by adding reference to the previous and next word in each token feature vector."
   ]
  },
  {
   "cell_type": "code",
   "execution_count": 11,
   "metadata": {},
   "outputs": [],
   "source": [
    "def features_basic(sentence, index):\n",
    "    \"\"\" sentence: [w1, w2, ...], index: the index of the word \"\"\"\n",
    "    return {\n",
    "        'nb_terms': len(sentence),        \n",
    "        'word': sentence[index],\n",
    "        'word_lower': sentence[index].lower(),\n",
    "        'is_first': index == 0,\n",
    "        'is_last': index == len(sentence) - 1,\n",
    "        'is_capitalized': sentence[index][0].upper() == sentence[index][0],\n",
    "        'is_all_caps': sentence[index].upper() == sentence[index],\n",
    "        'is_all_lower': sentence[index].lower() == sentence[index],\n",
    "        'prefix-1': sentence[index][0],\n",
    "        'prefix-2': sentence[index][:2],\n",
    "        'prefix-3': sentence[index][:3],\n",
    "        'suffix-1': sentence[index][-1],\n",
    "        'suffix-2': sentence[index][-2:],\n",
    "        'suffix-3': sentence[index][-3:],\n",
    "        'i-1_prefix-3': '' if index == 0 else sentence[index-1][:3],        \n",
    "        'i-1_suffix-3': '' if index == 0 else sentence[index-1][-3:],        \n",
    "        'i+1_prefix-3': '' if index == len(sentence) - 1 else sentence[index+1][:3],        \n",
    "        'i+1_suffix-3': '' if index == len(sentence) - 1 else sentence[index+1][-3:],        \n",
    "        'prev_word': '' if index == 0 else sentence[index - 1].lower(),\n",
    "        'next_word': '' if index == len(sentence) - 1 else sentence[index + 1].lower(),\n",
    "        'has_hyphen': '-' in sentence[index],\n",
    "        'is_numeric': sentence[index].isdigit(),\n",
    "        'capitals_inside': sentence[index][1:].lower() != sentence[index][1:],\n",
    "    }"
   ]
  },
  {
   "cell_type": "markdown",
   "metadata": {},
   "source": [
    "In the scikit-learn model, we model a dataset as a pair of two data structures:\n",
    "* The list of feature dictionaries X (one feature dictionary for each token)\n",
    "* The list of predicted label y (one tag for each token)"
   ]
  },
  {
   "cell_type": "code",
   "execution_count": 12,
   "metadata": {},
   "outputs": [],
   "source": [
    "def transform_to_dataset(tagged_sentences):\n",
    "    X, y = [], []\n",
    "    for doc_index, tagged in enumerate(tagged_sentences):\n",
    "        for index in range(len(tagged)):\n",
    "            X.append([features_basic(untag(tagged), index)])\n",
    "            y.append(tagged[index][1])\n",
    "    return X, y"
   ]
  },
  {
   "cell_type": "markdown",
   "metadata": {},
   "source": [
    "Given a sentence represented as a list of tokens, return the list of feature dictionaries using our feature encoding method:"
   ]
  },
  {
   "cell_type": "code",
   "execution_count": 13,
   "metadata": {},
   "outputs": [],
   "source": [
    "def transform_test_sentence(sentence):\n",
    "    X = []\n",
    "    for index in range(len(sentence)):\n",
    "            X.append([features_basic(sentence, index)])\n",
    "    return X"
   ]
  },
  {
   "cell_type": "markdown",
   "metadata": {},
   "source": [
    "## Test untag()\n",
    "\n",
    "We use untag() to extract raw sentences from the annotated CoNLL dataset. This way we can reproduce a sentence without tags, submit it to the tagger and compare predictions to the gold tags that are provided in the dataset."
   ]
  },
  {
   "cell_type": "code",
   "execution_count": 14,
   "metadata": {},
   "outputs": [
    {
     "data": {
      "text/plain": [
       "['What',\n",
       " 'if',\n",
       " 'Google',\n",
       " 'expanded',\n",
       " 'on',\n",
       " 'its',\n",
       " 'search',\n",
       " '-',\n",
       " 'engine',\n",
       " '(',\n",
       " 'and',\n",
       " 'now',\n",
       " 'e-mail',\n",
       " ')',\n",
       " 'wares',\n",
       " 'into',\n",
       " 'a',\n",
       " 'full',\n",
       " '-',\n",
       " 'fledged',\n",
       " 'operating',\n",
       " 'system',\n",
       " '?']"
      ]
     },
     "execution_count": 14,
     "metadata": {},
     "output_type": "execute_result"
    }
   ],
   "source": [
    "untag(test_sentences[1])"
   ]
  },
  {
   "cell_type": "markdown",
   "metadata": {},
   "source": [
    "# Dataset Transformation"
   ]
  },
  {
   "cell_type": "markdown",
   "metadata": {},
   "source": [
    "Before we can apply a generic machine learning algorithm (such as Logistic Regression), we need to encode the dataset into a vectorized format.\n",
    "\n",
    "We proceed in two steps: feature engineering and vectorization.\n",
    "\n",
    "For each token, we create a dictionary of features that depend on the sentence from which the token is extracted. \n",
    "These features include the word itself, the word before and the word after, letter suffixes and prefixes, etc.\n",
    "\n",
    "In the scikit-learn approach, before we can use a generic machine learning algorithm, we must then \"vectorize\" the feature dictionaries into vector encodings.\n",
    "For example, lexical features are encoded into one-hot vectors whose dimension is the size of the vocabulary.\n",
    "Note the difference between the method `fit_transform` of the vectorizer, which \"learns\" how to vectorize features, and `transform` which applies a learned vectorizer to feature dictionaries.  We use `fit_transform` on the training data, and `transform` on the other sections (validation and test).\n",
    "\n",
    "These vector representations are what is passed to the machine learning algorithm."
   ]
  },
  {
   "cell_type": "code",
   "execution_count": 15,
   "metadata": {},
   "outputs": [],
   "source": [
    "def vectorize(train, val, test):\n",
    "\n",
    "    print('Feature encoding method')\n",
    "    print('Vectorizing Dataset...')\n",
    "    print('Vectorizing train...')\n",
    "    X_train, y_train = transform_to_dataset(train)\n",
    "    v = DictVectorizer(sparse=True) \n",
    "    X_train = v.fit_transform([x[0] for x in X_train])\n",
    "    \n",
    "    print('Vectorizing validation...')\n",
    "    X_val, y_val = transform_to_dataset(val)\n",
    "    X_val = v.transform([x[0] for x in X_val])        \n",
    "    \n",
    "    print('Vectorizing test...')\n",
    "    X_test, y_test = transform_to_dataset(test)\n",
    "    X_test = v.transform([x[0] for x in X_test])\n",
    "    \n",
    "    print('Dataset vectorized.')\n",
    "    print('Train shape:', X_train.shape)\n",
    "    print('Validation shape:', X_val.shape)\n",
    "    print('Test shape:', X_test.shape)\n",
    "    \n",
    "    # Compress sparse matrices\n",
    "    X_train = X_train \n",
    "    X_val = X_val \n",
    "    X_test = X_test\n",
    "    return X_train, y_train, X_val, y_val, X_test, y_test, v\n",
    "    "
   ]
  },
  {
   "cell_type": "markdown",
   "metadata": {},
   "source": [
    "# Baseline Tagger"
   ]
  },
  {
   "cell_type": "markdown",
   "metadata": {},
   "source": [
    "Before we train a \"real\" machine learning algorithm using scikit-learn, we will repeat the very simple statistical method we discussed in class.\n",
    "We train and evaluate the Baseline Unigram tagger to compare performance with the tagger we will train next."
   ]
  },
  {
   "cell_type": "code",
   "execution_count": 16,
   "metadata": {},
   "outputs": [],
   "source": [
    "default_tagger = nltk.DefaultTagger('NOUN')\n",
    "unigram_tagger = nltk.UnigramTagger(train_sentences+val_sentences, backoff=default_tagger)"
   ]
  },
  {
   "cell_type": "code",
   "execution_count": 17,
   "metadata": {},
   "outputs": [],
   "source": [
    "y_train = [item for sublist in tag_sequence(train_sentences+val_sentences) for item in sublist]\n",
    "y_test = [item for sublist in tag_sequence(test_sentences) for item in sublist]\n",
    "classes = sorted(list(set(y_train)))"
   ]
  },
  {
   "cell_type": "code",
   "execution_count": 18,
   "metadata": {},
   "outputs": [],
   "source": [
    "def tag_list(tagged_sents):\n",
    "    return [tag for sent in tagged_sents for (word, tag) in sent]\n",
    "def apply_tagger(tagger, corpus):\n",
    "    return [tagger.tag(nltk.tag.untag(sent)) for sent in corpus]"
   ]
  },
  {
   "cell_type": "code",
   "execution_count": 19,
   "metadata": {},
   "outputs": [
    {
     "name": "stdout",
     "output_type": "stream",
     "text": [
      "Accuracy: 0.8671\n",
      "f1-macro score: 0.7965\n"
     ]
    }
   ],
   "source": [
    "y_pred = tag_list(apply_tagger(unigram_tagger, test_sentences))\n",
    "print(\"Accuracy: {0:.4f}\".format(unigram_tagger.accuracy(test_sentences)))\n",
    "print('f1-macro score: {0:.4f}'.format(f1_score(y_test, y_pred, zero_division=1, average='macro')))"
   ]
  },
  {
   "cell_type": "code",
   "execution_count": 20,
   "metadata": {},
   "outputs": [
    {
     "name": "stdout",
     "output_type": "stream",
     "text": [
      "              precision    recall  f1-score   support\n",
      "\n",
      "         ADJ     0.9158    0.8367    0.8745      1794\n",
      "         ADP     0.8697    0.8813    0.8755      2030\n",
      "         ADV     0.9341    0.8030    0.8636      1183\n",
      "         AUX     0.9233    0.8970    0.9099      1543\n",
      "       CCONJ     0.9892    0.9973    0.9932       736\n",
      "         DET     0.9612    0.9678    0.9645      1896\n",
      "        INTJ     0.9655    0.6942    0.8077       121\n",
      "        NOUN     0.6879    0.9331    0.7920      4123\n",
      "         NUM     0.9146    0.6125    0.7337       542\n",
      "        PART     0.6959    0.9769    0.8128       649\n",
      "        PRON     0.9665    0.9321    0.9490      2166\n",
      "       PROPN     0.9240    0.5443    0.6851      2076\n",
      "       PUNCT     0.9941    0.9861    0.9901      3096\n",
      "       SCONJ     0.6257    0.5964    0.6107       384\n",
      "         SYM     0.8125    0.8349    0.8235       109\n",
      "        VERB     0.8880    0.8243    0.8549      2606\n",
      "           X     1.0000    0.0000    0.0000        42\n",
      "\n",
      "    accuracy                         0.8671     25096\n",
      "   macro avg     0.8864    0.7834    0.7965     25096\n",
      "weighted avg     0.8832    0.8671    0.8653     25096\n",
      "\n"
     ]
    }
   ],
   "source": [
    "print(classification_report(y_test, y_pred, zero_division=1, digits=4))"
   ]
  },
  {
   "cell_type": "markdown",
   "metadata": {},
   "source": [
    "See what errors the Baseline tagger makes:"
   ]
  },
  {
   "cell_type": "code",
   "execution_count": 21,
   "metadata": {},
   "outputs": [],
   "source": [
    "def check_tagger(tagged_sentence):\n",
    "    note = ''\n",
    "    for tup in list(zip(unigram_tagger.tag(untag(tagged_sentence)),untag_pos(tagged_sentence))):\n",
    "        if tup[0][1]!=tup[1]: note='<<--- Error!'\n",
    "        print(tup[0], tup[1], note)\n",
    "        note=''"
   ]
  },
  {
   "cell_type": "code",
   "execution_count": 22,
   "metadata": {},
   "outputs": [
    {
     "name": "stdout",
     "output_type": "stream",
     "text": [
      "('What', 'PRON') PRON \n",
      "('if', 'SCONJ') SCONJ \n",
      "('Google', 'PROPN') PROPN \n",
      "('expanded', 'VERB') VERB \n",
      "('on', 'ADP') ADP \n",
      "('its', 'PRON') PRON \n",
      "('search', 'NOUN') NOUN \n",
      "('-', 'PUNCT') PUNCT \n",
      "('engine', 'NOUN') NOUN \n",
      "('(', 'PUNCT') PUNCT \n",
      "('and', 'CCONJ') CCONJ \n",
      "('now', 'ADV') ADV \n",
      "('e-mail', 'NOUN') NOUN \n",
      "(')', 'PUNCT') PUNCT \n",
      "('wares', 'NOUN') NOUN \n",
      "('into', 'ADP') ADP \n",
      "('a', 'DET') DET \n",
      "('full', 'ADJ') ADV <<--- Error!\n",
      "('-', 'PUNCT') PUNCT \n",
      "('fledged', 'NOUN') ADJ <<--- Error!\n",
      "('operating', 'NOUN') NOUN \n",
      "('system', 'NOUN') NOUN \n",
      "('?', 'PUNCT') PUNCT \n"
     ]
    }
   ],
   "source": [
    "check_tagger(test_sentences[1])"
   ]
  },
  {
   "cell_type": "markdown",
   "metadata": {},
   "source": [
    "It makes mistakes. Unsurprising given its simplistic approach and the small size of the training data."
   ]
  },
  {
   "cell_type": "code",
   "execution_count": 23,
   "metadata": {},
   "outputs": [],
   "source": [
    "cnf_matrix = confusion_matrix(y_test, y_pred)\n",
    "name='Baseline'"
   ]
  },
  {
   "cell_type": "code",
   "execution_count": 24,
   "metadata": {},
   "outputs": [
    {
     "data": {
      "image/png": "[encoded data removed]",
      "text/plain": [
       "<Figure size 1000x600 with 2 Axes>"
      ]
     },
     "metadata": {},
     "output_type": "display_data"
    }
   ],
   "source": [
    "plot_confusion_matrix(f1_score(y_test, y_pred, average='macro'), cnf_matrix, target_names=classes, title='Confusion matrix for '+name+' classifier', normalize=False)"
   ]
  },
  {
   "cell_type": "markdown",
   "metadata": {},
   "source": [
    "# Train a Logistic Regression Model"
   ]
  },
  {
   "cell_type": "markdown",
   "metadata": {},
   "source": [
    "Let us move to a more serious machine learning model. We will train a Logistic Regression model using our feature extraction function based on our \"expertise\" in the domain.\n",
    "\n",
    "We first transform the whole dataset from the CoNLL format into the scikit-learn vectorized encoding using our feature extraction method."
   ]
  },
  {
   "cell_type": "code",
   "execution_count": 25,
   "metadata": {
    "scrolled": true
   },
   "outputs": [
    {
     "name": "stdout",
     "output_type": "stream",
     "text": [
      "Feature encoding method\n",
      "Vectorizing Dataset...\n",
      "Vectorizing train...\n",
      "Vectorizing validation...\n",
      "Vectorizing test...\n",
      "Dataset vectorized.\n",
      "Train shape: (204616, 98724)\n",
      "Validation shape: (25153, 98724)\n",
      "Test shape: (25096, 98724)\n"
     ]
    }
   ],
   "source": [
    "X_train, y_train, X_val, y_val, X_test, y_test, vec = vectorize(train_sentences, val_sentences, test_sentences)"
   ]
  },
  {
   "cell_type": "markdown",
   "metadata": {},
   "source": [
    "## Hyper-parameter Tuning"
   ]
  },
  {
   "cell_type": "markdown",
   "metadata": {},
   "source": [
    "The Logistic Regression algorithm uses a hyper-parameter called C.  We tune the value of this parameter by testing different values on a subset of the training data and observing the impact of the C parameter on selected metrics (accuracy and F1).\n",
    "\n",
    "Because we will use cross-validation, we can use the full train set (train + validation)"
   ]
  },
  {
   "cell_type": "code",
   "execution_count": 26,
   "metadata": {},
   "outputs": [],
   "source": [
    "X_train = vstack((X_train, X_val))\n",
    "y_train = np.append(y_train, y_val, axis=0)"
   ]
  },
  {
   "cell_type": "code",
   "execution_count": 27,
   "metadata": {},
   "outputs": [
    {
     "data": {
      "text/plain": [
       "(229769, 98724)"
      ]
     },
     "execution_count": 27,
     "metadata": {},
     "output_type": "execute_result"
    }
   ],
   "source": [
    "X_train.shape"
   ]
  },
  {
   "cell_type": "code",
   "execution_count": 28,
   "metadata": {},
   "outputs": [
    {
     "data": {
      "text/plain": [
       "(229769,)"
      ]
     },
     "execution_count": 28,
     "metadata": {},
     "output_type": "execute_result"
    }
   ],
   "source": [
    "y_train.shape"
   ]
  },
  {
   "cell_type": "code",
   "execution_count": 29,
   "metadata": {},
   "outputs": [],
   "source": [
    "def hyper_tuning(train, test, y_train, y_test, scores, estimator, parameters, cv):\n",
    "    print(\"# Estimator:\",estimator)\n",
    "    for score in scores:\n",
    "        print(\"# Tuning hyper-parameters for %s\" % score)        \n",
    "        clf = GridSearchCV(estimator, parameters, cv=cv, scoring='%s' % score)\n",
    "        clf.fit(train, y_train)\n",
    "        print(\"Best parameters set found on development set:\")\n",
    "        print(clf.best_params_)\n",
    "        print()\n",
    "        print(\"Grid scores on development set:\")\n",
    "        means = clf.cv_results_['mean_test_score']\n",
    "        stds = clf.cv_results_['std_test_score']\n",
    "        for mean, std, params in zip(means, stds, clf.cv_results_['params']):\n",
    "            print(\"%0.3f (+/-%0.03f) for %r\" % (mean, std * 2, params))\n",
    "        print()\n",
    "        print(\"Detailed classification report:\")\n",
    "        print(\"The model is trained on the full development set.\")\n",
    "        print(\"The scores are computed on the full evaluation set.\")\n",
    "        y_pred = clf.predict(test)\n",
    "        print(classification_report(y_test, y_pred, digits=4))\n",
    "        print('Accuracy: {0:0.4f}   f1-score: {1:0.4f} \\n'.format(accuracy_score(y_test, y_pred), f1_score(y_test, y_pred, average='macro')))\n",
    "    return clf"
   ]
  },
  {
   "cell_type": "code",
   "execution_count": 30,
   "metadata": {},
   "outputs": [
    {
     "name": "stdout",
     "output_type": "stream",
     "text": [
      "# Estimator: LogisticRegression(random_state=13, solver='liblinear')\n",
      "# Tuning hyper-parameters for accuracy\n",
      "Best parameters set found on development set:\n",
      "{'C': 20}\n",
      "\n",
      "Grid scores on development set:\n",
      "0.748 (+/-0.027) for {'C': 0.1}\n",
      "0.828 (+/-0.046) for {'C': 1}\n",
      "0.834 (+/-0.041) for {'C': 2}\n",
      "0.836 (+/-0.035) for {'C': 3}\n",
      "0.836 (+/-0.035) for {'C': 4}\n",
      "0.838 (+/-0.029) for {'C': 5}\n",
      "0.842 (+/-0.033) for {'C': 10}\n",
      "0.846 (+/-0.035) for {'C': 20}\n",
      "0.844 (+/-0.042) for {'C': 50}\n",
      "\n",
      "Detailed classification report:\n",
      "The model is trained on the full development set.\n",
      "The scores are computed on the full evaluation set.\n",
      "              precision    recall  f1-score   support\n",
      "\n",
      "         ADJ     0.0000    0.0000    0.0000         2\n",
      "         ADP     1.0000    0.6667    0.8000         6\n",
      "         ADV     0.0000    0.0000    0.0000         3\n",
      "         AUX     1.0000    1.0000    1.0000         1\n",
      "       CCONJ     1.0000    0.5000    0.6667         2\n",
      "         DET     0.6667    1.0000    0.8000         2\n",
      "        NOUN     0.6667    0.8571    0.7500         7\n",
      "        PRON     1.0000    0.2500    0.4000         4\n",
      "       PROPN     0.6667    1.0000    0.8000         8\n",
      "       PUNCT     1.0000    1.0000    1.0000        11\n",
      "       SCONJ     1.0000    1.0000    1.0000         2\n",
      "        VERB     0.2000    0.5000    0.2857         2\n",
      "\n",
      "    accuracy                         0.7400        50\n",
      "   macro avg     0.6833    0.6478    0.6252        50\n",
      "weighted avg     0.7547    0.7400    0.7111        50\n",
      "\n",
      "Accuracy: 0.7400   f1-score: 0.6252 \n",
      "\n",
      "# Tuning hyper-parameters for f1_macro\n",
      "Best parameters set found on development set:\n",
      "{'C': 20}\n",
      "\n",
      "Grid scores on development set:\n",
      "0.515 (+/-0.041) for {'C': 0.1}\n",
      "0.657 (+/-0.140) for {'C': 1}\n",
      "0.667 (+/-0.129) for {'C': 2}\n",
      "0.676 (+/-0.107) for {'C': 3}\n",
      "0.676 (+/-0.107) for {'C': 4}\n",
      "0.681 (+/-0.096) for {'C': 5}\n",
      "0.694 (+/-0.100) for {'C': 10}\n",
      "0.718 (+/-0.110) for {'C': 20}\n",
      "0.717 (+/-0.113) for {'C': 50}\n",
      "\n",
      "Detailed classification report:\n",
      "The model is trained on the full development set.\n",
      "The scores are computed on the full evaluation set.\n",
      "              precision    recall  f1-score   support\n",
      "\n",
      "         ADJ     0.0000    0.0000    0.0000         2\n",
      "         ADP     1.0000    0.6667    0.8000         6\n",
      "         ADV     0.0000    0.0000    0.0000         3\n",
      "         AUX     1.0000    1.0000    1.0000         1\n",
      "       CCONJ     1.0000    0.5000    0.6667         2\n",
      "         DET     0.6667    1.0000    0.8000         2\n",
      "        NOUN     0.6667    0.8571    0.7500         7\n",
      "        PRON     1.0000    0.2500    0.4000         4\n",
      "       PROPN     0.6667    1.0000    0.8000         8\n",
      "       PUNCT     1.0000    1.0000    1.0000        11\n",
      "       SCONJ     1.0000    1.0000    1.0000         2\n",
      "        VERB     0.2000    0.5000    0.2857         2\n",
      "\n",
      "    accuracy                         0.7400        50\n",
      "   macro avg     0.6833    0.6478    0.6252        50\n",
      "weighted avg     0.7547    0.7400    0.7111        50\n",
      "\n",
      "Accuracy: 0.7400   f1-score: 0.6252 \n",
      "\n"
     ]
    }
   ],
   "source": [
    "logregr = LogisticRegression(solver='liblinear', random_state=13)\n",
    "# Cross validation strategy\n",
    "skf = StratifiedKFold(n_splits=4)\n",
    "# Scores could also be ['precision', 'recall', ....]\n",
    "scores = ['accuracy', 'f1_macro']\n",
    "\n",
    "params = [{'C': [0.1, 1, 2, 3, 4, 5, 10, 20, 50]}]\n",
    "#logregr = hyper_tuning(X_train, X_test, y_train, y_test, scores, logregr, params, skf)\n",
    "#You may want to comment previous line and comment-out next lines to see how hyper-tuning works and dont wait too much time...\n",
    "skf = StratifiedKFold(n_splits=4)\n",
    "logregr = hyper_tuning(X_train[:500], X_test[:50], y_train[:500], y_test[:50], scores, logregr, params, skf)"
   ]
  },
  {
   "cell_type": "markdown",
   "metadata": {},
   "source": [
    "## Training"
   ]
  },
  {
   "cell_type": "markdown",
   "metadata": {},
   "source": [
    "We can now training using the best hyper-parameter selected above.  This takes a few minutes."
   ]
  },
  {
   "cell_type": "code",
   "execution_count": 32,
   "metadata": {},
   "outputs": [
    {
     "name": "stdout",
     "output_type": "stream",
     "text": [
      "Training...\n",
      "Training completed in 234.819478 seconds\n"
     ]
    }
   ],
   "source": [
    "t_ini = datetime.datetime.now()\n",
    "print('Training...')\n",
    "clf = LogisticRegression(C=20, solver='liblinear', random_state=13)\n",
    "clf.fit(X_train, y_train)\n",
    "t_fin = datetime.datetime.now()\n",
    "print('Training completed in {} seconds'.format((t_fin - t_ini).total_seconds()))"
   ]
  },
  {
   "cell_type": "markdown",
   "metadata": {},
   "source": [
    "# Evaluation"
   ]
  },
  {
   "cell_type": "code",
   "execution_count": 33,
   "metadata": {},
   "outputs": [],
   "source": [
    "y_pred = clf.predict(X_test)"
   ]
  },
  {
   "cell_type": "code",
   "execution_count": 34,
   "metadata": {},
   "outputs": [
    {
     "name": "stdout",
     "output_type": "stream",
     "text": [
      "Accuracy: 0.9451\n",
      "f1-macro score: 0.9035\n"
     ]
    }
   ],
   "source": [
    "print(\"Accuracy: {0:.4f}\".format(clf.score(X_test, y_test)))\n",
    "print('f1-macro score: {0:.4f}'.format(f1_score(y_test, y_pred, average='macro')))"
   ]
  },
  {
   "cell_type": "markdown",
   "metadata": {},
   "source": [
    "## Classification Report"
   ]
  },
  {
   "cell_type": "code",
   "execution_count": 35,
   "metadata": {},
   "outputs": [
    {
     "name": "stdout",
     "output_type": "stream",
     "text": [
      "              precision    recall  f1-score   support\n",
      "\n",
      "         ADJ     0.9198    0.9013    0.9105      1794\n",
      "         ADP     0.9333    0.9586    0.9458      2030\n",
      "         ADV     0.9204    0.8893    0.9046      1183\n",
      "         AUX     0.9787    0.9819    0.9803      1543\n",
      "       CCONJ     0.9946    0.9932    0.9939       736\n",
      "         DET     0.9910    0.9910    0.9910      1896\n",
      "        INTJ     0.9712    0.8347    0.8978       121\n",
      "        NOUN     0.9038    0.9207    0.9122      4123\n",
      "         NUM     0.9725    0.9779    0.9752       542\n",
      "        PART     0.9799    0.9769    0.9784       649\n",
      "        PRON     0.9875    0.9871    0.9873      2166\n",
      "       PROPN     0.8812    0.8608    0.8709      2076\n",
      "       PUNCT     0.9913    0.9971    0.9942      3096\n",
      "       SCONJ     0.8516    0.8073    0.8289       384\n",
      "         SYM     0.8990    0.8165    0.8558       109\n",
      "        VERB     0.9447    0.9566    0.9506      2606\n",
      "           X     0.5000    0.3095    0.3824        42\n",
      "\n",
      "    accuracy                         0.9451     25096\n",
      "   macro avg     0.9189    0.8918    0.9035     25096\n",
      "weighted avg     0.9447    0.9451    0.9447     25096\n",
      "\n"
     ]
    }
   ],
   "source": [
    "print(classification_report(y_test, clf.predict(X_test), digits=4))"
   ]
  },
  {
   "cell_type": "markdown",
   "metadata": {},
   "source": [
    "## Frequent Types of Mistakes"
   ]
  },
  {
   "cell_type": "code",
   "execution_count": 36,
   "metadata": {},
   "outputs": [
    {
     "name": "stdout",
     "output_type": "stream",
     "text": [
      "Accuracy: 0.9451\n",
      "Total errors/Total words: 1378/25096\n",
      "\n",
      "Most common errors: [('that', 25), ('as', 23), ('to', 23), ('like', 22), ('out', 18), ('for', 18), ('up', 18), ('/', 17), ('in', 17), ('on', 12), ('01-Feb-02', 11), ('much', 10), ('one', 9), ('-', 9), ('so', 8), ('all', 7), ('have', 7), ('be', 7), ('of', 6), ('better', 6)]\n"
     ]
    }
   ],
   "source": [
    "import collections\n",
    "k=0\n",
    "i2w = id2word(test_sentences)\n",
    "error_counter = collections.Counter()\n",
    "for i in range(X_test.shape[0]):\n",
    "    correct_tag_id = y_test\n",
    "    if y_pred[i]!=y_test[i]:\n",
    "        k += 1\n",
    "        word = i2w[i]\n",
    "        error_counter[word] += 1\n",
    "print('Accuracy: {0:.4f}'.format((len(i2w)-k)/len(i2w)))\n",
    "print('Total errors/Total words: {}/{}\\n'.format(k,len(i2w)))\n",
    "print('Most common errors:',error_counter.most_common(20))"
   ]
  },
  {
   "cell_type": "markdown",
   "metadata": {},
   "source": [
    "## Learning Curves"
   ]
  },
  {
   "cell_type": "markdown",
   "metadata": {},
   "source": [
    "The following diagram illustrates the \"training dynamics\" of the LR model: how fast does it improve as it keeps training. Originally, the difference between the test dataset and the cross-validation (on part of the test data) is large; as training proceeds, the gap reduces. This diagram is important to verify we do not have a case of over-fitting - where the model does \"very well\" on training data and does not improve on test data.  \n",
    "\n",
    "This computation takes a long time (as we keep training and evaluating multiple times to obtain the snapshots). It is not necessary to run the rest of the notebook so that you can safely skip it."
   ]
  },
  {
   "cell_type": "code",
   "execution_count": null,
   "metadata": {},
   "outputs": [
    {
     "ename": "KeyboardInterrupt",
     "evalue": "",
     "output_type": "error",
     "traceback": [
      "\u001b[31m---------------------------------------------------------------------------\u001b[39m",
      "\u001b[31mKeyboardInterrupt\u001b[39m                         Traceback (most recent call last)",
      "\u001b[36mCell\u001b[39m\u001b[36m \u001b[39m\u001b[32mIn[36]\u001b[39m\u001b[32m, line 1\u001b[39m\n\u001b[32m----> \u001b[39m\u001b[32m1\u001b[39m \u001b[43mplot_learning_curve\u001b[49m\u001b[43m(\u001b[49m\u001b[43mclf\u001b[49m\u001b[43m,\u001b[49m\u001b[43m \u001b[49m\u001b[33;43m'\u001b[39;49m\u001b[33;43mLogistic Regression\u001b[39;49m\u001b[33;43m'\u001b[39;49m\u001b[43m,\u001b[49m\u001b[43m \u001b[49m\u001b[43mX_train\u001b[49m\u001b[43m,\u001b[49m\u001b[43m \u001b[49m\u001b[43my_train\u001b[49m\u001b[43m,\u001b[49m\u001b[43m \u001b[49m\u001b[43mylim\u001b[49m\u001b[43m=\u001b[49m\u001b[43m(\u001b[49m\u001b[32;43m0.7\u001b[39;49m\u001b[43m,\u001b[49m\u001b[43m \u001b[49m\u001b[32;43m1.01\u001b[39;49m\u001b[43m)\u001b[49m\u001b[43m,\u001b[49m\u001b[43m \u001b[49m\u001b[43mcv\u001b[49m\u001b[43m=\u001b[49m\u001b[32;43m5\u001b[39;49m\u001b[43m)\u001b[49m\n",
      "\u001b[36mCell\u001b[39m\u001b[36m \u001b[39m\u001b[32mIn[2]\u001b[39m\u001b[32m, line 8\u001b[39m, in \u001b[36mplot_learning_curve\u001b[39m\u001b[34m(estimator, title, X, y, ylim, cv, n_jobs, train_sizes)\u001b[39m\n\u001b[32m      6\u001b[39m plt.xlabel(\u001b[33m\"\u001b[39m\u001b[33mTraining examples\u001b[39m\u001b[33m\"\u001b[39m)\n\u001b[32m      7\u001b[39m plt.ylabel(\u001b[33m\"\u001b[39m\u001b[33mAccuracy\u001b[39m\u001b[33m\"\u001b[39m)\n\u001b[32m----> \u001b[39m\u001b[32m8\u001b[39m train_sizes, train_scores, test_scores = \u001b[43mlearning_curve\u001b[49m\u001b[43m(\u001b[49m\n\u001b[32m      9\u001b[39m \u001b[43m    \u001b[49m\u001b[43mestimator\u001b[49m\u001b[43m,\u001b[49m\u001b[43m \u001b[49m\u001b[43mX\u001b[49m\u001b[43m,\u001b[49m\u001b[43m \u001b[49m\u001b[43my\u001b[49m\u001b[43m,\u001b[49m\u001b[43m \u001b[49m\u001b[43mcv\u001b[49m\u001b[43m=\u001b[49m\u001b[43mcv\u001b[49m\u001b[43m,\u001b[49m\u001b[43m \u001b[49m\u001b[43mn_jobs\u001b[49m\u001b[43m=\u001b[49m\u001b[43mn_jobs\u001b[49m\u001b[43m,\u001b[49m\u001b[43m \u001b[49m\u001b[43mtrain_sizes\u001b[49m\u001b[43m=\u001b[49m\u001b[43mtrain_sizes\u001b[49m\u001b[43m,\u001b[49m\u001b[43m \u001b[49m\u001b[43mscoring\u001b[49m\u001b[43m=\u001b[49m\u001b[33;43m'\u001b[39;49m\u001b[33;43maccuracy\u001b[39;49m\u001b[33;43m'\u001b[39;49m\u001b[43m)\u001b[49m\n\u001b[32m     10\u001b[39m train_scores_mean = np.mean(train_scores, axis=\u001b[32m1\u001b[39m)\n\u001b[32m     11\u001b[39m train_scores_std = np.std(train_scores, axis=\u001b[32m1\u001b[39m)\n",
      "\u001b[36mFile \u001b[39m\u001b[32mc:\\Users\\idol\\Desktop\\תואר\\Simester F\\LLM\\ass1\\nlp-with-llms-2025-hw1\\.venv\\Lib\\site-packages\\sklearn\\utils\\_param_validation.py:216\u001b[39m, in \u001b[36mvalidate_params.<locals>.decorator.<locals>.wrapper\u001b[39m\u001b[34m(*args, **kwargs)\u001b[39m\n\u001b[32m    210\u001b[39m \u001b[38;5;28;01mtry\u001b[39;00m:\n\u001b[32m    211\u001b[39m     \u001b[38;5;28;01mwith\u001b[39;00m config_context(\n\u001b[32m    212\u001b[39m         skip_parameter_validation=(\n\u001b[32m    213\u001b[39m             prefer_skip_nested_validation \u001b[38;5;129;01mor\u001b[39;00m global_skip_validation\n\u001b[32m    214\u001b[39m         )\n\u001b[32m    215\u001b[39m     ):\n\u001b[32m--> \u001b[39m\u001b[32m216\u001b[39m         \u001b[38;5;28;01mreturn\u001b[39;00m \u001b[43mfunc\u001b[49m\u001b[43m(\u001b[49m\u001b[43m*\u001b[49m\u001b[43margs\u001b[49m\u001b[43m,\u001b[49m\u001b[43m \u001b[49m\u001b[43m*\u001b[49m\u001b[43m*\u001b[49m\u001b[43mkwargs\u001b[49m\u001b[43m)\u001b[49m\n\u001b[32m    217\u001b[39m \u001b[38;5;28;01mexcept\u001b[39;00m InvalidParameterError \u001b[38;5;28;01mas\u001b[39;00m e:\n\u001b[32m    218\u001b[39m     \u001b[38;5;66;03m# When the function is just a wrapper around an estimator, we allow\u001b[39;00m\n\u001b[32m    219\u001b[39m     \u001b[38;5;66;03m# the function to delegate validation to the estimator, but we replace\u001b[39;00m\n\u001b[32m    220\u001b[39m     \u001b[38;5;66;03m# the name of the estimator by the name of the function in the error\u001b[39;00m\n\u001b[32m    221\u001b[39m     \u001b[38;5;66;03m# message to avoid confusion.\u001b[39;00m\n\u001b[32m    222\u001b[39m     msg = re.sub(\n\u001b[32m    223\u001b[39m         \u001b[33mr\u001b[39m\u001b[33m\"\u001b[39m\u001b[33mparameter of \u001b[39m\u001b[33m\\\u001b[39m\u001b[33mw+ must be\u001b[39m\u001b[33m\"\u001b[39m,\n\u001b[32m    224\u001b[39m         \u001b[33mf\u001b[39m\u001b[33m\"\u001b[39m\u001b[33mparameter of \u001b[39m\u001b[38;5;132;01m{\u001b[39;00mfunc.\u001b[34m__qualname__\u001b[39m\u001b[38;5;132;01m}\u001b[39;00m\u001b[33m must be\u001b[39m\u001b[33m\"\u001b[39m,\n\u001b[32m    225\u001b[39m         \u001b[38;5;28mstr\u001b[39m(e),\n\u001b[32m    226\u001b[39m     )\n",
      "\u001b[36mFile \u001b[39m\u001b[32mc:\\Users\\idol\\Desktop\\תואר\\Simester F\\LLM\\ass1\\nlp-with-llms-2025-hw1\\.venv\\Lib\\site-packages\\sklearn\\model_selection\\_validation.py:2085\u001b[39m, in \u001b[36mlearning_curve\u001b[39m\u001b[34m(estimator, X, y, groups, train_sizes, cv, scoring, exploit_incremental_learning, n_jobs, pre_dispatch, verbose, shuffle, random_state, error_score, return_times, fit_params, params)\u001b[39m\n\u001b[32m   2082\u001b[39m     \u001b[38;5;28;01mfor\u001b[39;00m n_train_samples \u001b[38;5;129;01min\u001b[39;00m train_sizes_abs:\n\u001b[32m   2083\u001b[39m         train_test_proportions.append((train[:n_train_samples], test))\n\u001b[32m-> \u001b[39m\u001b[32m2085\u001b[39m results = \u001b[43mparallel\u001b[49m\u001b[43m(\u001b[49m\n\u001b[32m   2086\u001b[39m \u001b[43m    \u001b[49m\u001b[43mdelayed\u001b[49m\u001b[43m(\u001b[49m\u001b[43m_fit_and_score\u001b[49m\u001b[43m)\u001b[49m\u001b[43m(\u001b[49m\n\u001b[32m   2087\u001b[39m \u001b[43m        \u001b[49m\u001b[43mclone\u001b[49m\u001b[43m(\u001b[49m\u001b[43mestimator\u001b[49m\u001b[43m)\u001b[49m\u001b[43m,\u001b[49m\n\u001b[32m   2088\u001b[39m \u001b[43m        \u001b[49m\u001b[43mX\u001b[49m\u001b[43m,\u001b[49m\n\u001b[32m   2089\u001b[39m \u001b[43m        \u001b[49m\u001b[43my\u001b[49m\u001b[43m,\u001b[49m\n\u001b[32m   2090\u001b[39m \u001b[43m        \u001b[49m\u001b[43mscorer\u001b[49m\u001b[43m=\u001b[49m\u001b[43mscorer\u001b[49m\u001b[43m,\u001b[49m\n\u001b[32m   2091\u001b[39m \u001b[43m        \u001b[49m\u001b[43mtrain\u001b[49m\u001b[43m=\u001b[49m\u001b[43mtrain\u001b[49m\u001b[43m,\u001b[49m\n\u001b[32m   2092\u001b[39m \u001b[43m        \u001b[49m\u001b[43mtest\u001b[49m\u001b[43m=\u001b[49m\u001b[43mtest\u001b[49m\u001b[43m,\u001b[49m\n\u001b[32m   2093\u001b[39m \u001b[43m        \u001b[49m\u001b[43mverbose\u001b[49m\u001b[43m=\u001b[49m\u001b[43mverbose\u001b[49m\u001b[43m,\u001b[49m\n\u001b[32m   2094\u001b[39m \u001b[43m        \u001b[49m\u001b[43mparameters\u001b[49m\u001b[43m=\u001b[49m\u001b[38;5;28;43;01mNone\u001b[39;49;00m\u001b[43m,\u001b[49m\n\u001b[32m   2095\u001b[39m \u001b[43m        \u001b[49m\u001b[43mfit_params\u001b[49m\u001b[43m=\u001b[49m\u001b[43mrouted_params\u001b[49m\u001b[43m.\u001b[49m\u001b[43mestimator\u001b[49m\u001b[43m.\u001b[49m\u001b[43mfit\u001b[49m\u001b[43m,\u001b[49m\n\u001b[32m   2096\u001b[39m \u001b[43m        \u001b[49m\u001b[43mscore_params\u001b[49m\u001b[43m=\u001b[49m\u001b[43mrouted_params\u001b[49m\u001b[43m.\u001b[49m\u001b[43mscorer\u001b[49m\u001b[43m.\u001b[49m\u001b[43mscore\u001b[49m\u001b[43m,\u001b[49m\n\u001b[32m   2097\u001b[39m \u001b[43m        \u001b[49m\u001b[43mreturn_train_score\u001b[49m\u001b[43m=\u001b[49m\u001b[38;5;28;43;01mTrue\u001b[39;49;00m\u001b[43m,\u001b[49m\n\u001b[32m   2098\u001b[39m \u001b[43m        \u001b[49m\u001b[43merror_score\u001b[49m\u001b[43m=\u001b[49m\u001b[43merror_score\u001b[49m\u001b[43m,\u001b[49m\n\u001b[32m   2099\u001b[39m \u001b[43m        \u001b[49m\u001b[43mreturn_times\u001b[49m\u001b[43m=\u001b[49m\u001b[43mreturn_times\u001b[49m\u001b[43m,\u001b[49m\n\u001b[32m   2100\u001b[39m \u001b[43m    \u001b[49m\u001b[43m)\u001b[49m\n\u001b[32m   2101\u001b[39m \u001b[43m    \u001b[49m\u001b[38;5;28;43;01mfor\u001b[39;49;00m\u001b[43m \u001b[49m\u001b[43mtrain\u001b[49m\u001b[43m,\u001b[49m\u001b[43m \u001b[49m\u001b[43mtest\u001b[49m\u001b[43m \u001b[49m\u001b[38;5;129;43;01min\u001b[39;49;00m\u001b[43m \u001b[49m\u001b[43mtrain_test_proportions\u001b[49m\n\u001b[32m   2102\u001b[39m \u001b[43m\u001b[49m\u001b[43m)\u001b[49m\n\u001b[32m   2103\u001b[39m _warn_or_raise_about_fit_failures(results, error_score)\n\u001b[32m   2104\u001b[39m results = _aggregate_score_dicts(results)\n",
      "\u001b[36mFile \u001b[39m\u001b[32mc:\\Users\\idol\\Desktop\\תואר\\Simester F\\LLM\\ass1\\nlp-with-llms-2025-hw1\\.venv\\Lib\\site-packages\\sklearn\\utils\\parallel.py:77\u001b[39m, in \u001b[36mParallel.__call__\u001b[39m\u001b[34m(self, iterable)\u001b[39m\n\u001b[32m     72\u001b[39m config = get_config()\n\u001b[32m     73\u001b[39m iterable_with_config = (\n\u001b[32m     74\u001b[39m     (_with_config(delayed_func, config), args, kwargs)\n\u001b[32m     75\u001b[39m     \u001b[38;5;28;01mfor\u001b[39;00m delayed_func, args, kwargs \u001b[38;5;129;01min\u001b[39;00m iterable\n\u001b[32m     76\u001b[39m )\n\u001b[32m---> \u001b[39m\u001b[32m77\u001b[39m \u001b[38;5;28;01mreturn\u001b[39;00m \u001b[38;5;28;43msuper\u001b[39;49m\u001b[43m(\u001b[49m\u001b[43m)\u001b[49m\u001b[43m.\u001b[49m\u001b[34;43m__call__\u001b[39;49m\u001b[43m(\u001b[49m\u001b[43miterable_with_config\u001b[49m\u001b[43m)\u001b[49m\n",
      "\u001b[36mFile \u001b[39m\u001b[32mc:\\Users\\idol\\Desktop\\תואר\\Simester F\\LLM\\ass1\\nlp-with-llms-2025-hw1\\.venv\\Lib\\site-packages\\joblib\\parallel.py:1918\u001b[39m, in \u001b[36mParallel.__call__\u001b[39m\u001b[34m(self, iterable)\u001b[39m\n\u001b[32m   1916\u001b[39m     output = \u001b[38;5;28mself\u001b[39m._get_sequential_output(iterable)\n\u001b[32m   1917\u001b[39m     \u001b[38;5;28mnext\u001b[39m(output)\n\u001b[32m-> \u001b[39m\u001b[32m1918\u001b[39m     \u001b[38;5;28;01mreturn\u001b[39;00m output \u001b[38;5;28;01mif\u001b[39;00m \u001b[38;5;28mself\u001b[39m.return_generator \u001b[38;5;28;01melse\u001b[39;00m \u001b[38;5;28;43mlist\u001b[39;49m\u001b[43m(\u001b[49m\u001b[43moutput\u001b[49m\u001b[43m)\u001b[49m\n\u001b[32m   1920\u001b[39m \u001b[38;5;66;03m# Let's create an ID that uniquely identifies the current call. If the\u001b[39;00m\n\u001b[32m   1921\u001b[39m \u001b[38;5;66;03m# call is interrupted early and that the same instance is immediately\u001b[39;00m\n\u001b[32m   1922\u001b[39m \u001b[38;5;66;03m# re-used, this id will be used to prevent workers that were\u001b[39;00m\n\u001b[32m   1923\u001b[39m \u001b[38;5;66;03m# concurrently finalizing a task from the previous call to run the\u001b[39;00m\n\u001b[32m   1924\u001b[39m \u001b[38;5;66;03m# callback.\u001b[39;00m\n\u001b[32m   1925\u001b[39m \u001b[38;5;28;01mwith\u001b[39;00m \u001b[38;5;28mself\u001b[39m._lock:\n",
      "\u001b[36mFile \u001b[39m\u001b[32mc:\\Users\\idol\\Desktop\\תואר\\Simester F\\LLM\\ass1\\nlp-with-llms-2025-hw1\\.venv\\Lib\\site-packages\\joblib\\parallel.py:1847\u001b[39m, in \u001b[36mParallel._get_sequential_output\u001b[39m\u001b[34m(self, iterable)\u001b[39m\n\u001b[32m   1845\u001b[39m \u001b[38;5;28mself\u001b[39m.n_dispatched_batches += \u001b[32m1\u001b[39m\n\u001b[32m   1846\u001b[39m \u001b[38;5;28mself\u001b[39m.n_dispatched_tasks += \u001b[32m1\u001b[39m\n\u001b[32m-> \u001b[39m\u001b[32m1847\u001b[39m res = \u001b[43mfunc\u001b[49m\u001b[43m(\u001b[49m\u001b[43m*\u001b[49m\u001b[43margs\u001b[49m\u001b[43m,\u001b[49m\u001b[43m \u001b[49m\u001b[43m*\u001b[49m\u001b[43m*\u001b[49m\u001b[43mkwargs\u001b[49m\u001b[43m)\u001b[49m\n\u001b[32m   1848\u001b[39m \u001b[38;5;28mself\u001b[39m.n_completed_tasks += \u001b[32m1\u001b[39m\n\u001b[32m   1849\u001b[39m \u001b[38;5;28mself\u001b[39m.print_progress()\n",
      "\u001b[36mFile \u001b[39m\u001b[32mc:\\Users\\idol\\Desktop\\תואר\\Simester F\\LLM\\ass1\\nlp-with-llms-2025-hw1\\.venv\\Lib\\site-packages\\sklearn\\utils\\parallel.py:139\u001b[39m, in \u001b[36m_FuncWrapper.__call__\u001b[39m\u001b[34m(self, *args, **kwargs)\u001b[39m\n\u001b[32m    137\u001b[39m     config = {}\n\u001b[32m    138\u001b[39m \u001b[38;5;28;01mwith\u001b[39;00m config_context(**config):\n\u001b[32m--> \u001b[39m\u001b[32m139\u001b[39m     \u001b[38;5;28;01mreturn\u001b[39;00m \u001b[38;5;28;43mself\u001b[39;49m\u001b[43m.\u001b[49m\u001b[43mfunction\u001b[49m\u001b[43m(\u001b[49m\u001b[43m*\u001b[49m\u001b[43margs\u001b[49m\u001b[43m,\u001b[49m\u001b[43m \u001b[49m\u001b[43m*\u001b[49m\u001b[43m*\u001b[49m\u001b[43mkwargs\u001b[49m\u001b[43m)\u001b[49m\n",
      "\u001b[36mFile \u001b[39m\u001b[32mc:\\Users\\idol\\Desktop\\תואר\\Simester F\\LLM\\ass1\\nlp-with-llms-2025-hw1\\.venv\\Lib\\site-packages\\sklearn\\model_selection\\_validation.py:866\u001b[39m, in \u001b[36m_fit_and_score\u001b[39m\u001b[34m(estimator, X, y, scorer, train, test, verbose, parameters, fit_params, score_params, return_train_score, return_parameters, return_n_test_samples, return_times, return_estimator, split_progress, candidate_progress, error_score)\u001b[39m\n\u001b[32m    864\u001b[39m         estimator.fit(X_train, **fit_params)\n\u001b[32m    865\u001b[39m     \u001b[38;5;28;01melse\u001b[39;00m:\n\u001b[32m--> \u001b[39m\u001b[32m866\u001b[39m         \u001b[43mestimator\u001b[49m\u001b[43m.\u001b[49m\u001b[43mfit\u001b[49m\u001b[43m(\u001b[49m\u001b[43mX_train\u001b[49m\u001b[43m,\u001b[49m\u001b[43m \u001b[49m\u001b[43my_train\u001b[49m\u001b[43m,\u001b[49m\u001b[43m \u001b[49m\u001b[43m*\u001b[49m\u001b[43m*\u001b[49m\u001b[43mfit_params\u001b[49m\u001b[43m)\u001b[49m\n\u001b[32m    868\u001b[39m \u001b[38;5;28;01mexcept\u001b[39;00m \u001b[38;5;167;01mException\u001b[39;00m:\n\u001b[32m    869\u001b[39m     \u001b[38;5;66;03m# Note fit time as time until error\u001b[39;00m\n\u001b[32m    870\u001b[39m     fit_time = time.time() - start_time\n",
      "\u001b[36mFile \u001b[39m\u001b[32mc:\\Users\\idol\\Desktop\\תואר\\Simester F\\LLM\\ass1\\nlp-with-llms-2025-hw1\\.venv\\Lib\\site-packages\\sklearn\\base.py:1389\u001b[39m, in \u001b[36m_fit_context.<locals>.decorator.<locals>.wrapper\u001b[39m\u001b[34m(estimator, *args, **kwargs)\u001b[39m\n\u001b[32m   1382\u001b[39m     estimator._validate_params()\n\u001b[32m   1384\u001b[39m \u001b[38;5;28;01mwith\u001b[39;00m config_context(\n\u001b[32m   1385\u001b[39m     skip_parameter_validation=(\n\u001b[32m   1386\u001b[39m         prefer_skip_nested_validation \u001b[38;5;129;01mor\u001b[39;00m global_skip_validation\n\u001b[32m   1387\u001b[39m     )\n\u001b[32m   1388\u001b[39m ):\n\u001b[32m-> \u001b[39m\u001b[32m1389\u001b[39m     \u001b[38;5;28;01mreturn\u001b[39;00m \u001b[43mfit_method\u001b[49m\u001b[43m(\u001b[49m\u001b[43mestimator\u001b[49m\u001b[43m,\u001b[49m\u001b[43m \u001b[49m\u001b[43m*\u001b[49m\u001b[43margs\u001b[49m\u001b[43m,\u001b[49m\u001b[43m \u001b[49m\u001b[43m*\u001b[49m\u001b[43m*\u001b[49m\u001b[43mkwargs\u001b[49m\u001b[43m)\u001b[49m\n",
      "\u001b[36mFile \u001b[39m\u001b[32mc:\\Users\\idol\\Desktop\\תואר\\Simester F\\LLM\\ass1\\nlp-with-llms-2025-hw1\\.venv\\Lib\\site-packages\\sklearn\\linear_model\\_logistic.py:1276\u001b[39m, in \u001b[36mLogisticRegression.fit\u001b[39m\u001b[34m(self, X, y, sample_weight)\u001b[39m\n\u001b[32m   1270\u001b[39m     \u001b[38;5;28;01mif\u001b[39;00m effective_n_jobs(\u001b[38;5;28mself\u001b[39m.n_jobs) != \u001b[32m1\u001b[39m:\n\u001b[32m   1271\u001b[39m         warnings.warn(\n\u001b[32m   1272\u001b[39m             \u001b[33m\"\u001b[39m\u001b[33m'\u001b[39m\u001b[33mn_jobs\u001b[39m\u001b[33m'\u001b[39m\u001b[33m > 1 does not have any effect when\u001b[39m\u001b[33m\"\u001b[39m\n\u001b[32m   1273\u001b[39m             \u001b[33m\"\u001b[39m\u001b[33m \u001b[39m\u001b[33m'\u001b[39m\u001b[33msolver\u001b[39m\u001b[33m'\u001b[39m\u001b[33m is set to \u001b[39m\u001b[33m'\u001b[39m\u001b[33mliblinear\u001b[39m\u001b[33m'\u001b[39m\u001b[33m. Got \u001b[39m\u001b[33m'\u001b[39m\u001b[33mn_jobs\u001b[39m\u001b[33m'\u001b[39m\u001b[33m\"\u001b[39m\n\u001b[32m   1274\u001b[39m             \u001b[33m\"\u001b[39m\u001b[33m = \u001b[39m\u001b[38;5;132;01m{}\u001b[39;00m\u001b[33m.\u001b[39m\u001b[33m\"\u001b[39m.format(effective_n_jobs(\u001b[38;5;28mself\u001b[39m.n_jobs))\n\u001b[32m   1275\u001b[39m         )\n\u001b[32m-> \u001b[39m\u001b[32m1276\u001b[39m     \u001b[38;5;28mself\u001b[39m.coef_, \u001b[38;5;28mself\u001b[39m.intercept_, \u001b[38;5;28mself\u001b[39m.n_iter_ = \u001b[43m_fit_liblinear\u001b[49m\u001b[43m(\u001b[49m\n\u001b[32m   1277\u001b[39m \u001b[43m        \u001b[49m\u001b[43mX\u001b[49m\u001b[43m,\u001b[49m\n\u001b[32m   1278\u001b[39m \u001b[43m        \u001b[49m\u001b[43my\u001b[49m\u001b[43m,\u001b[49m\n\u001b[32m   1279\u001b[39m \u001b[43m        \u001b[49m\u001b[38;5;28;43mself\u001b[39;49m\u001b[43m.\u001b[49m\u001b[43mC\u001b[49m\u001b[43m,\u001b[49m\n\u001b[32m   1280\u001b[39m \u001b[43m        \u001b[49m\u001b[38;5;28;43mself\u001b[39;49m\u001b[43m.\u001b[49m\u001b[43mfit_intercept\u001b[49m\u001b[43m,\u001b[49m\n\u001b[32m   1281\u001b[39m \u001b[43m        \u001b[49m\u001b[38;5;28;43mself\u001b[39;49m\u001b[43m.\u001b[49m\u001b[43mintercept_scaling\u001b[49m\u001b[43m,\u001b[49m\n\u001b[32m   1282\u001b[39m \u001b[43m        \u001b[49m\u001b[38;5;28;43mself\u001b[39;49m\u001b[43m.\u001b[49m\u001b[43mclass_weight\u001b[49m\u001b[43m,\u001b[49m\n\u001b[32m   1283\u001b[39m \u001b[43m        \u001b[49m\u001b[38;5;28;43mself\u001b[39;49m\u001b[43m.\u001b[49m\u001b[43mpenalty\u001b[49m\u001b[43m,\u001b[49m\n\u001b[32m   1284\u001b[39m \u001b[43m        \u001b[49m\u001b[38;5;28;43mself\u001b[39;49m\u001b[43m.\u001b[49m\u001b[43mdual\u001b[49m\u001b[43m,\u001b[49m\n\u001b[32m   1285\u001b[39m \u001b[43m        \u001b[49m\u001b[38;5;28;43mself\u001b[39;49m\u001b[43m.\u001b[49m\u001b[43mverbose\u001b[49m\u001b[43m,\u001b[49m\n\u001b[32m   1286\u001b[39m \u001b[43m        \u001b[49m\u001b[38;5;28;43mself\u001b[39;49m\u001b[43m.\u001b[49m\u001b[43mmax_iter\u001b[49m\u001b[43m,\u001b[49m\n\u001b[32m   1287\u001b[39m \u001b[43m        \u001b[49m\u001b[38;5;28;43mself\u001b[39;49m\u001b[43m.\u001b[49m\u001b[43mtol\u001b[49m\u001b[43m,\u001b[49m\n\u001b[32m   1288\u001b[39m \u001b[43m        \u001b[49m\u001b[38;5;28;43mself\u001b[39;49m\u001b[43m.\u001b[49m\u001b[43mrandom_state\u001b[49m\u001b[43m,\u001b[49m\n\u001b[32m   1289\u001b[39m \u001b[43m        \u001b[49m\u001b[43msample_weight\u001b[49m\u001b[43m=\u001b[49m\u001b[43msample_weight\u001b[49m\u001b[43m,\u001b[49m\n\u001b[32m   1290\u001b[39m \u001b[43m    \u001b[49m\u001b[43m)\u001b[49m\n\u001b[32m   1291\u001b[39m     \u001b[38;5;28;01mreturn\u001b[39;00m \u001b[38;5;28mself\u001b[39m\n\u001b[32m   1293\u001b[39m \u001b[38;5;28;01mif\u001b[39;00m solver \u001b[38;5;129;01min\u001b[39;00m [\u001b[33m\"\u001b[39m\u001b[33msag\u001b[39m\u001b[33m\"\u001b[39m, \u001b[33m\"\u001b[39m\u001b[33msaga\u001b[39m\u001b[33m\"\u001b[39m]:\n",
      "\u001b[36mFile \u001b[39m\u001b[32mc:\\Users\\idol\\Desktop\\תואר\\Simester F\\LLM\\ass1\\nlp-with-llms-2025-hw1\\.venv\\Lib\\site-packages\\sklearn\\svm\\_base.py:1229\u001b[39m, in \u001b[36m_fit_liblinear\u001b[39m\u001b[34m(X, y, C, fit_intercept, intercept_scaling, class_weight, penalty, dual, verbose, max_iter, tol, random_state, multi_class, loss, epsilon, sample_weight)\u001b[39m\n\u001b[32m   1226\u001b[39m sample_weight = _check_sample_weight(sample_weight, X, dtype=np.float64)\n\u001b[32m   1228\u001b[39m solver_type = _get_liblinear_solver_type(multi_class, penalty, loss, dual)\n\u001b[32m-> \u001b[39m\u001b[32m1229\u001b[39m raw_coef_, n_iter_ = \u001b[43mliblinear\u001b[49m\u001b[43m.\u001b[49m\u001b[43mtrain_wrap\u001b[49m\u001b[43m(\u001b[49m\n\u001b[32m   1230\u001b[39m \u001b[43m    \u001b[49m\u001b[43mX\u001b[49m\u001b[43m,\u001b[49m\n\u001b[32m   1231\u001b[39m \u001b[43m    \u001b[49m\u001b[43my_ind\u001b[49m\u001b[43m,\u001b[49m\n\u001b[32m   1232\u001b[39m \u001b[43m    \u001b[49m\u001b[43msp\u001b[49m\u001b[43m.\u001b[49m\u001b[43missparse\u001b[49m\u001b[43m(\u001b[49m\u001b[43mX\u001b[49m\u001b[43m)\u001b[49m\u001b[43m,\u001b[49m\n\u001b[32m   1233\u001b[39m \u001b[43m    \u001b[49m\u001b[43msolver_type\u001b[49m\u001b[43m,\u001b[49m\n\u001b[32m   1234\u001b[39m \u001b[43m    \u001b[49m\u001b[43mtol\u001b[49m\u001b[43m,\u001b[49m\n\u001b[32m   1235\u001b[39m \u001b[43m    \u001b[49m\u001b[43mbias\u001b[49m\u001b[43m,\u001b[49m\n\u001b[32m   1236\u001b[39m \u001b[43m    \u001b[49m\u001b[43mC\u001b[49m\u001b[43m,\u001b[49m\n\u001b[32m   1237\u001b[39m \u001b[43m    \u001b[49m\u001b[43mclass_weight_\u001b[49m\u001b[43m,\u001b[49m\n\u001b[32m   1238\u001b[39m \u001b[43m    \u001b[49m\u001b[43mmax_iter\u001b[49m\u001b[43m,\u001b[49m\n\u001b[32m   1239\u001b[39m \u001b[43m    \u001b[49m\u001b[43mrnd\u001b[49m\u001b[43m.\u001b[49m\u001b[43mrandint\u001b[49m\u001b[43m(\u001b[49m\u001b[43mnp\u001b[49m\u001b[43m.\u001b[49m\u001b[43miinfo\u001b[49m\u001b[43m(\u001b[49m\u001b[33;43m\"\u001b[39;49m\u001b[33;43mi\u001b[39;49m\u001b[33;43m\"\u001b[39;49m\u001b[43m)\u001b[49m\u001b[43m.\u001b[49m\u001b[43mmax\u001b[49m\u001b[43m)\u001b[49m\u001b[43m,\u001b[49m\n\u001b[32m   1240\u001b[39m \u001b[43m    \u001b[49m\u001b[43mepsilon\u001b[49m\u001b[43m,\u001b[49m\n\u001b[32m   1241\u001b[39m \u001b[43m    \u001b[49m\u001b[43msample_weight\u001b[49m\u001b[43m,\u001b[49m\n\u001b[32m   1242\u001b[39m \u001b[43m\u001b[49m\u001b[43m)\u001b[49m\n\u001b[32m   1243\u001b[39m \u001b[38;5;66;03m# Regarding rnd.randint(..) in the above signature:\u001b[39;00m\n\u001b[32m   1244\u001b[39m \u001b[38;5;66;03m# seed for srand in range [0..INT_MAX); due to limitations in Numpy\u001b[39;00m\n\u001b[32m   1245\u001b[39m \u001b[38;5;66;03m# on 32-bit platforms, we can't get to the UINT_MAX limit that\u001b[39;00m\n\u001b[32m   1246\u001b[39m \u001b[38;5;66;03m# srand supports\u001b[39;00m\n\u001b[32m   1247\u001b[39m n_iter_max = \u001b[38;5;28mmax\u001b[39m(n_iter_)\n",
      "\u001b[31mKeyboardInterrupt\u001b[39m: "
     ]
    },
    {
     "data": {
      "image/png": "[encoded data removed]",
      "text/plain": [
       "<Figure size 640x480 with 1 Axes>"
      ]
     },
     "metadata": {},
     "output_type": "display_data"
    }
   ],
   "source": [
    "plot_learning_curve(clf, 'Logistic Regression', X_train, y_train, ylim=(0.7, 1.01), cv=5)"
   ]
  },
  {
   "cell_type": "markdown",
   "metadata": {},
   "source": [
    "## Confusion Matrix"
   ]
  },
  {
   "cell_type": "code",
   "execution_count": 37,
   "metadata": {},
   "outputs": [
    {
     "data": {
      "image/png": "[encoded data removed]",
      "text/plain": [
       "<Figure size 1000x600 with 2 Axes>"
      ]
     },
     "metadata": {},
     "output_type": "display_data"
    }
   ],
   "source": [
    "y_pred = clf.predict(X_test)\n",
    "f1 = f1_score(y_test, y_pred, average='macro')\n",
    "cnf_matrix = confusion_matrix(y_test, y_pred)\n",
    "name='Logistic Regression'\n",
    "plot_confusion_matrix(f1, cnf_matrix, target_names=classes, title='Confusion matrix for '+name+' classifier', normalize=False)"
   ]
  },
  {
   "cell_type": "markdown",
   "metadata": {},
   "source": [
    "## Tag an Unknown Sentence"
   ]
  },
  {
   "cell_type": "markdown",
   "metadata": {},
   "source": [
    "Lets try our trained tagger on new sentences.  To tag a sentence given as a string, we must apply the following steps:\n",
    "* Tokenize the string into a list of tokens\n",
    "* Turn each token into a features dictionary (using the features used by our model)\n",
    "* Turn the list of feature dictionaries into vectors (using scikit-learn vectorization method)\n",
    "* Pass the resulting matrix (one row vector for each token) to the classifier."
   ]
  },
  {
   "cell_type": "code",
   "execution_count": 38,
   "metadata": {},
   "outputs": [
    {
     "name": "stderr",
     "output_type": "stream",
     "text": [
      "[nltk_data] Downloading package punkt_tab to\n",
      "[nltk_data]     /Users/poslevkusie/nltk_data...\n",
      "[nltk_data]   Unzipping tokenizers/punkt_tab.zip.\n"
     ]
    },
    {
     "data": {
      "text/plain": [
       "True"
      ]
     },
     "execution_count": 38,
     "metadata": {},
     "output_type": "execute_result"
    }
   ],
   "source": [
    "# Need to download the nltk model for sentence tokenizer\n",
    "nltk.download('punkt_tab')"
   ]
  },
  {
   "cell_type": "code",
   "execution_count": 39,
   "metadata": {},
   "outputs": [
    {
     "name": "stdout",
     "output_type": "stream",
     "text": [
      "['Word', 'embeddings', 'provide', 'a', 'dense', 'representation', 'of', 'words', 'and', 'their', 'relative', 'meanings', '.']\n"
     ]
    }
   ],
   "source": [
    "tokens = nltk.word_tokenize('Word embeddings provide a dense representation of words and their relative meanings.')\n",
    "print(tokens)"
   ]
  },
  {
   "cell_type": "code",
   "execution_count": 40,
   "metadata": {},
   "outputs": [],
   "source": [
    "X_features = transform_test_sentence(tokens)"
   ]
  },
  {
   "cell_type": "code",
   "execution_count": 41,
   "metadata": {},
   "outputs": [
    {
     "data": {
      "text/plain": [
       "[[{'nb_terms': 13,\n",
       "   'word': 'Word',\n",
       "   'word_lower': 'word',\n",
       "   'is_first': True,\n",
       "   'is_last': False,\n",
       "   'is_capitalized': True,\n",
       "   'is_all_caps': False,\n",
       "   'is_all_lower': False,\n",
       "   'prefix-1': 'W',\n",
       "   'prefix-2': 'Wo',\n",
       "   'prefix-3': 'Wor',\n",
       "   'suffix-1': 'd',\n",
       "   'suffix-2': 'rd',\n",
       "   'suffix-3': 'ord',\n",
       "   'i-1_prefix-3': '',\n",
       "   'i-1_suffix-3': '',\n",
       "   'i+1_prefix-3': 'emb',\n",
       "   'i+1_suffix-3': 'ngs',\n",
       "   'prev_word': '',\n",
       "   'next_word': 'embeddings',\n",
       "   'has_hyphen': False,\n",
       "   'is_numeric': False,\n",
       "   'capitals_inside': False}],\n",
       " [{'nb_terms': 13,\n",
       "   'word': 'embeddings',\n",
       "   'word_lower': 'embeddings',\n",
       "   'is_first': False,\n",
       "   'is_last': False,\n",
       "   'is_capitalized': False,\n",
       "   'is_all_caps': False,\n",
       "   'is_all_lower': True,\n",
       "   'prefix-1': 'e',\n",
       "   'prefix-2': 'em',\n",
       "   'prefix-3': 'emb',\n",
       "   'suffix-1': 's',\n",
       "   'suffix-2': 'gs',\n",
       "   'suffix-3': 'ngs',\n",
       "   'i-1_prefix-3': 'Wor',\n",
       "   'i-1_suffix-3': 'ord',\n",
       "   'i+1_prefix-3': 'pro',\n",
       "   'i+1_suffix-3': 'ide',\n",
       "   'prev_word': 'word',\n",
       "   'next_word': 'provide',\n",
       "   'has_hyphen': False,\n",
       "   'is_numeric': False,\n",
       "   'capitals_inside': False}],\n",
       " [{'nb_terms': 13,\n",
       "   'word': 'provide',\n",
       "   'word_lower': 'provide',\n",
       "   'is_first': False,\n",
       "   'is_last': False,\n",
       "   'is_capitalized': False,\n",
       "   'is_all_caps': False,\n",
       "   'is_all_lower': True,\n",
       "   'prefix-1': 'p',\n",
       "   'prefix-2': 'pr',\n",
       "   'prefix-3': 'pro',\n",
       "   'suffix-1': 'e',\n",
       "   'suffix-2': 'de',\n",
       "   'suffix-3': 'ide',\n",
       "   'i-1_prefix-3': 'emb',\n",
       "   'i-1_suffix-3': 'ngs',\n",
       "   'i+1_prefix-3': 'a',\n",
       "   'i+1_suffix-3': 'a',\n",
       "   'prev_word': 'embeddings',\n",
       "   'next_word': 'a',\n",
       "   'has_hyphen': False,\n",
       "   'is_numeric': False,\n",
       "   'capitals_inside': False}],\n",
       " [{'nb_terms': 13,\n",
       "   'word': 'a',\n",
       "   'word_lower': 'a',\n",
       "   'is_first': False,\n",
       "   'is_last': False,\n",
       "   'is_capitalized': False,\n",
       "   'is_all_caps': False,\n",
       "   'is_all_lower': True,\n",
       "   'prefix-1': 'a',\n",
       "   'prefix-2': 'a',\n",
       "   'prefix-3': 'a',\n",
       "   'suffix-1': 'a',\n",
       "   'suffix-2': 'a',\n",
       "   'suffix-3': 'a',\n",
       "   'i-1_prefix-3': 'pro',\n",
       "   'i-1_suffix-3': 'ide',\n",
       "   'i+1_prefix-3': 'den',\n",
       "   'i+1_suffix-3': 'nse',\n",
       "   'prev_word': 'provide',\n",
       "   'next_word': 'dense',\n",
       "   'has_hyphen': False,\n",
       "   'is_numeric': False,\n",
       "   'capitals_inside': False}],\n",
       " [{'nb_terms': 13,\n",
       "   'word': 'dense',\n",
       "   'word_lower': 'dense',\n",
       "   'is_first': False,\n",
       "   'is_last': False,\n",
       "   'is_capitalized': False,\n",
       "   'is_all_caps': False,\n",
       "   'is_all_lower': True,\n",
       "   'prefix-1': 'd',\n",
       "   'prefix-2': 'de',\n",
       "   'prefix-3': 'den',\n",
       "   'suffix-1': 'e',\n",
       "   'suffix-2': 'se',\n",
       "   'suffix-3': 'nse',\n",
       "   'i-1_prefix-3': 'a',\n",
       "   'i-1_suffix-3': 'a',\n",
       "   'i+1_prefix-3': 'rep',\n",
       "   'i+1_suffix-3': 'ion',\n",
       "   'prev_word': 'a',\n",
       "   'next_word': 'representation',\n",
       "   'has_hyphen': False,\n",
       "   'is_numeric': False,\n",
       "   'capitals_inside': False}],\n",
       " [{'nb_terms': 13,\n",
       "   'word': 'representation',\n",
       "   'word_lower': 'representation',\n",
       "   'is_first': False,\n",
       "   'is_last': False,\n",
       "   'is_capitalized': False,\n",
       "   'is_all_caps': False,\n",
       "   'is_all_lower': True,\n",
       "   'prefix-1': 'r',\n",
       "   'prefix-2': 're',\n",
       "   'prefix-3': 'rep',\n",
       "   'suffix-1': 'n',\n",
       "   'suffix-2': 'on',\n",
       "   'suffix-3': 'ion',\n",
       "   'i-1_prefix-3': 'den',\n",
       "   'i-1_suffix-3': 'nse',\n",
       "   'i+1_prefix-3': 'of',\n",
       "   'i+1_suffix-3': 'of',\n",
       "   'prev_word': 'dense',\n",
       "   'next_word': 'of',\n",
       "   'has_hyphen': False,\n",
       "   'is_numeric': False,\n",
       "   'capitals_inside': False}],\n",
       " [{'nb_terms': 13,\n",
       "   'word': 'of',\n",
       "   'word_lower': 'of',\n",
       "   'is_first': False,\n",
       "   'is_last': False,\n",
       "   'is_capitalized': False,\n",
       "   'is_all_caps': False,\n",
       "   'is_all_lower': True,\n",
       "   'prefix-1': 'o',\n",
       "   'prefix-2': 'of',\n",
       "   'prefix-3': 'of',\n",
       "   'suffix-1': 'f',\n",
       "   'suffix-2': 'of',\n",
       "   'suffix-3': 'of',\n",
       "   'i-1_prefix-3': 'rep',\n",
       "   'i-1_suffix-3': 'ion',\n",
       "   'i+1_prefix-3': 'wor',\n",
       "   'i+1_suffix-3': 'rds',\n",
       "   'prev_word': 'representation',\n",
       "   'next_word': 'words',\n",
       "   'has_hyphen': False,\n",
       "   'is_numeric': False,\n",
       "   'capitals_inside': False}],\n",
       " [{'nb_terms': 13,\n",
       "   'word': 'words',\n",
       "   'word_lower': 'words',\n",
       "   'is_first': False,\n",
       "   'is_last': False,\n",
       "   'is_capitalized': False,\n",
       "   'is_all_caps': False,\n",
       "   'is_all_lower': True,\n",
       "   'prefix-1': 'w',\n",
       "   'prefix-2': 'wo',\n",
       "   'prefix-3': 'wor',\n",
       "   'suffix-1': 's',\n",
       "   'suffix-2': 'ds',\n",
       "   'suffix-3': 'rds',\n",
       "   'i-1_prefix-3': 'of',\n",
       "   'i-1_suffix-3': 'of',\n",
       "   'i+1_prefix-3': 'and',\n",
       "   'i+1_suffix-3': 'and',\n",
       "   'prev_word': 'of',\n",
       "   'next_word': 'and',\n",
       "   'has_hyphen': False,\n",
       "   'is_numeric': False,\n",
       "   'capitals_inside': False}],\n",
       " [{'nb_terms': 13,\n",
       "   'word': 'and',\n",
       "   'word_lower': 'and',\n",
       "   'is_first': False,\n",
       "   'is_last': False,\n",
       "   'is_capitalized': False,\n",
       "   'is_all_caps': False,\n",
       "   'is_all_lower': True,\n",
       "   'prefix-1': 'a',\n",
       "   'prefix-2': 'an',\n",
       "   'prefix-3': 'and',\n",
       "   'suffix-1': 'd',\n",
       "   'suffix-2': 'nd',\n",
       "   'suffix-3': 'and',\n",
       "   'i-1_prefix-3': 'wor',\n",
       "   'i-1_suffix-3': 'rds',\n",
       "   'i+1_prefix-3': 'the',\n",
       "   'i+1_suffix-3': 'eir',\n",
       "   'prev_word': 'words',\n",
       "   'next_word': 'their',\n",
       "   'has_hyphen': False,\n",
       "   'is_numeric': False,\n",
       "   'capitals_inside': False}],\n",
       " [{'nb_terms': 13,\n",
       "   'word': 'their',\n",
       "   'word_lower': 'their',\n",
       "   'is_first': False,\n",
       "   'is_last': False,\n",
       "   'is_capitalized': False,\n",
       "   'is_all_caps': False,\n",
       "   'is_all_lower': True,\n",
       "   'prefix-1': 't',\n",
       "   'prefix-2': 'th',\n",
       "   'prefix-3': 'the',\n",
       "   'suffix-1': 'r',\n",
       "   'suffix-2': 'ir',\n",
       "   'suffix-3': 'eir',\n",
       "   'i-1_prefix-3': 'and',\n",
       "   'i-1_suffix-3': 'and',\n",
       "   'i+1_prefix-3': 'rel',\n",
       "   'i+1_suffix-3': 'ive',\n",
       "   'prev_word': 'and',\n",
       "   'next_word': 'relative',\n",
       "   'has_hyphen': False,\n",
       "   'is_numeric': False,\n",
       "   'capitals_inside': False}],\n",
       " [{'nb_terms': 13,\n",
       "   'word': 'relative',\n",
       "   'word_lower': 'relative',\n",
       "   'is_first': False,\n",
       "   'is_last': False,\n",
       "   'is_capitalized': False,\n",
       "   'is_all_caps': False,\n",
       "   'is_all_lower': True,\n",
       "   'prefix-1': 'r',\n",
       "   'prefix-2': 're',\n",
       "   'prefix-3': 'rel',\n",
       "   'suffix-1': 'e',\n",
       "   'suffix-2': 've',\n",
       "   'suffix-3': 'ive',\n",
       "   'i-1_prefix-3': 'the',\n",
       "   'i-1_suffix-3': 'eir',\n",
       "   'i+1_prefix-3': 'mea',\n",
       "   'i+1_suffix-3': 'ngs',\n",
       "   'prev_word': 'their',\n",
       "   'next_word': 'meanings',\n",
       "   'has_hyphen': False,\n",
       "   'is_numeric': False,\n",
       "   'capitals_inside': False}],\n",
       " [{'nb_terms': 13,\n",
       "   'word': 'meanings',\n",
       "   'word_lower': 'meanings',\n",
       "   'is_first': False,\n",
       "   'is_last': False,\n",
       "   'is_capitalized': False,\n",
       "   'is_all_caps': False,\n",
       "   'is_all_lower': True,\n",
       "   'prefix-1': 'm',\n",
       "   'prefix-2': 'me',\n",
       "   'prefix-3': 'mea',\n",
       "   'suffix-1': 's',\n",
       "   'suffix-2': 'gs',\n",
       "   'suffix-3': 'ngs',\n",
       "   'i-1_prefix-3': 'rel',\n",
       "   'i-1_suffix-3': 'ive',\n",
       "   'i+1_prefix-3': '.',\n",
       "   'i+1_suffix-3': '.',\n",
       "   'prev_word': 'relative',\n",
       "   'next_word': '.',\n",
       "   'has_hyphen': False,\n",
       "   'is_numeric': False,\n",
       "   'capitals_inside': False}],\n",
       " [{'nb_terms': 13,\n",
       "   'word': '.',\n",
       "   'word_lower': '.',\n",
       "   'is_first': False,\n",
       "   'is_last': True,\n",
       "   'is_capitalized': True,\n",
       "   'is_all_caps': True,\n",
       "   'is_all_lower': True,\n",
       "   'prefix-1': '.',\n",
       "   'prefix-2': '.',\n",
       "   'prefix-3': '.',\n",
       "   'suffix-1': '.',\n",
       "   'suffix-2': '.',\n",
       "   'suffix-3': '.',\n",
       "   'i-1_prefix-3': 'mea',\n",
       "   'i-1_suffix-3': 'ngs',\n",
       "   'i+1_prefix-3': '',\n",
       "   'i+1_suffix-3': '',\n",
       "   'prev_word': 'meanings',\n",
       "   'next_word': '',\n",
       "   'has_hyphen': False,\n",
       "   'is_numeric': False,\n",
       "   'capitals_inside': False}]]"
      ]
     },
     "execution_count": 41,
     "metadata": {},
     "output_type": "execute_result"
    }
   ],
   "source": [
    "X_features"
   ]
  },
  {
   "cell_type": "code",
   "execution_count": 42,
   "metadata": {},
   "outputs": [],
   "source": [
    "X_vectorized = vec.transform([x[0] for x in X_features])"
   ]
  },
  {
   "cell_type": "code",
   "execution_count": 43,
   "metadata": {},
   "outputs": [
    {
     "data": {
      "text/plain": [
       "(13, 98724)"
      ]
     },
     "execution_count": 43,
     "metadata": {},
     "output_type": "execute_result"
    }
   ],
   "source": [
    "# The vectorized sentence is a sparse matrix with one row for each token and columns for the vectorized features\n",
    "# For example, if the vocabulary has 1000 unique words, the vectorized sentence will have 1000 columns for each word feature.\n",
    "# This is a very sparse matrix, where most of the values are zero.\n",
    "X_vectorized.shape"
   ]
  },
  {
   "cell_type": "code",
   "execution_count": 44,
   "metadata": {},
   "outputs": [],
   "source": [
    "pred = clf.predict(X_vectorized)"
   ]
  },
  {
   "cell_type": "code",
   "execution_count": 45,
   "metadata": {},
   "outputs": [
    {
     "name": "stdout",
     "output_type": "stream",
     "text": [
      "Here is what our LR tagger predicts for the test sentence:\n",
      " [('Word', np.str_('PROPN')), ('embeddings', np.str_('NOUN')), ('provide', np.str_('VERB')), ('a', np.str_('DET')), ('dense', np.str_('ADJ')), ('representation', np.str_('NOUN')), ('of', np.str_('ADP')), ('words', np.str_('NOUN')), ('and', np.str_('CCONJ')), ('their', np.str_('PRON')), ('relative', np.str_('ADJ')), ('meanings', np.str_('NOUN')), ('.', np.str_('PUNCT'))]\n"
     ]
    }
   ],
   "source": [
    "# np.str_ is a subclass of str that is used to represent string arrays in NumPy.\n",
    "print('Here is what our LR tagger predicts for the test sentence:\\n',list(zip(tokens, pred)))"
   ]
  },
  {
   "cell_type": "markdown",
   "metadata": {},
   "source": [
    "Let's turn this process into a prediction function from a sentence encoded as a single string to a list of pairs (token, predicted_tag):"
   ]
  },
  {
   "cell_type": "code",
   "execution_count": 46,
   "metadata": {},
   "outputs": [],
   "source": [
    "def predict_sentence(sentence):\n",
    "   tokens = nltk.word_tokenize(sentence)\n",
    "   X_features = transform_test_sentence(tokens)\n",
    "   X_vectorized = vec.transform([x[0] for x in X_features])\n",
    "   pred = clf.predict(X_vectorized)\n",
    "   return list(zip(tokens, pred))"
   ]
  },
  {
   "cell_type": "code",
   "execution_count": 47,
   "metadata": {},
   "outputs": [
    {
     "data": {
      "text/plain": [
       "[('Let', np.str_('VERB')),\n",
       " ('me', np.str_('PRON')),\n",
       " ('join', np.str_('VERB')),\n",
       " ('the', np.str_('DET')),\n",
       " ('chorus', np.str_('NOUN')),\n",
       " ('of', np.str_('ADP')),\n",
       " ('annoyance', np.str_('NOUN')),\n",
       " ('over', np.str_('ADP')),\n",
       " ('Google', np.str_('PROPN')),\n",
       " (\"'s\", np.str_('PART')),\n",
       " ('new', np.str_('ADJ')),\n",
       " ('toolbar', np.str_('NOUN')),\n",
       " (',', np.str_('PUNCT')),\n",
       " ('which', np.str_('PRON')),\n",
       " (',', np.str_('PUNCT')),\n",
       " ('as', np.str_('SCONJ')),\n",
       " ('noted', np.str_('VERB')),\n",
       " ('in', np.str_('ADP')),\n",
       " ('the', np.str_('DET')),\n",
       " ('linked', np.str_('VERB')),\n",
       " ('article', np.str_('NOUN')),\n",
       " (',', np.str_('PUNCT')),\n",
       " ('commits', np.str_('NOUN')),\n",
       " ('just', np.str_('ADV')),\n",
       " ('about', np.str_('ADV')),\n",
       " ('every', np.str_('DET')),\n",
       " ('sin', np.str_('VERB')),\n",
       " ('an', np.str_('DET')),\n",
       " ('online', np.str_('ADJ')),\n",
       " ('marketer', np.str_('NOUN')),\n",
       " ('could', np.str_('AUX')),\n",
       " ('commit', np.str_('VERB')),\n",
       " (',', np.str_('PUNCT')),\n",
       " ('and', np.str_('CCONJ')),\n",
       " ('makes', np.str_('VERB')),\n",
       " ('up', np.str_('ADP')),\n",
       " ('a', np.str_('DET')),\n",
       " ('few', np.str_('ADJ')),\n",
       " ('new', np.str_('ADJ')),\n",
       " ('ones', np.str_('NOUN')),\n",
       " ('besides', np.str_('ADP')),\n",
       " ('.', np.str_('PUNCT'))]"
      ]
     },
     "execution_count": 47,
     "metadata": {},
     "output_type": "execute_result"
    }
   ],
   "source": [
    "predict_sentence(\"Let me join the chorus of annoyance over Google's new toolbar , which, as noted in the linked article, commits just about every sin an online marketer could commit, and makes up a few new ones besides.\")"
   ]
  },
  {
   "cell_type": "markdown",
   "metadata": {},
   "source": [
    "# Collect Hard Sentences\n",
    "\n",
    "Hard sentences are sentences that contain multiple wrongly predicted tags given our classifier.\n",
    "\n",
    "Write code to collect hard sentences given a classifier clf."
   ]
  },
  {
   "cell_type": "code",
   "execution_count": 48,
   "metadata": {},
   "outputs": [
    {
     "name": "stdout",
     "output_type": "stream",
     "text": [
      "[('What', 'PRON'), ('if', 'SCONJ'), ('Google', 'PROPN'), ('expanded', 'VERB'), ('on', 'ADP'), ('its', 'PRON'), ('search', 'NOUN'), ('-', 'PUNCT'), ('engine', 'NOUN'), ('(', 'PUNCT'), ('and', 'CCONJ'), ('now', 'ADV'), ('e-mail', 'NOUN'), (')', 'PUNCT'), ('wares', 'NOUN'), ('into', 'ADP'), ('a', 'DET'), ('full', 'ADV'), ('-', 'PUNCT'), ('fledged', 'ADJ'), ('operating', 'NOUN'), ('system', 'NOUN'), ('?', 'PUNCT')]\n",
      "['What', 'if', 'Google', 'expanded', 'on', 'its', 'search', '-', 'engine', '(', 'and', 'now', 'e-mail', ')', 'wares', 'into', 'a', 'full', '-', 'fledged', 'operating', 'system', '?']\n",
      "['PRON', 'SCONJ', 'PROPN', 'VERB', 'ADP', 'PRON', 'NOUN', 'PUNCT', 'NOUN', 'PUNCT', 'CCONJ', 'ADV', 'NOUN', 'PUNCT', 'NOUN', 'ADP', 'DET', 'ADV', 'PUNCT', 'ADJ', 'NOUN', 'NOUN', 'PUNCT']\n",
      "[('What', np.str_('PRON')), ('if', np.str_('SCONJ')), ('Google', np.str_('PROPN')), ('expanded', np.str_('VERB')), ('on', np.str_('ADP')), ('its', np.str_('PRON')), ('search', np.str_('NOUN')), ('-', np.str_('PUNCT')), ('engine', np.str_('NOUN')), ('(', np.str_('PUNCT')), ('and', np.str_('CCONJ')), ('now', np.str_('ADV')), ('e-mail', np.str_('NOUN')), (')', np.str_('PUNCT')), ('wares', np.str_('VERB')), ('into', np.str_('ADP')), ('a', np.str_('DET')), ('full', np.str_('ADJ')), ('-', np.str_('PUNCT')), ('fledged', np.str_('VERB')), ('operating', np.str_('NOUN')), ('system', np.str_('NOUN')), ('?', np.str_('PUNCT'))]\n"
     ]
    }
   ],
   "source": [
    "tagged_sentence = test_sentences[1]\n",
    "print(tagged_sentence)\n",
    "print(untag(tagged_sentence))\n",
    "print(untag_pos(tagged_sentence))\n",
    "print(predict_sentence(\" \".join(untag(tagged_sentence))))"
   ]
  },
  {
   "cell_type": "code",
   "execution_count": 59,
   "metadata": {},
   "outputs": [],
   "source": [
    "def predict_sentence_with_clf(classifier, sentence):\n",
    "   tokens = nltk.word_tokenize(sentence)\n",
    "   X_features = transform_test_sentence(tokens)\n",
    "   X_vectorized = vec.transform([x[0] for x in X_features])\n",
    "   pred = classifier.predict(X_vectorized)\n",
    "   return list(zip(tokens, pred))\n",
    "\n",
    "def errors_in_sentence_prediction(clf, tagged_sentence):\n",
    "    \"\"\"Given a tagged sentence from the dataset, return the number of errors and the predicted tags.\"\"\"\n",
    "    predicted_tags = predict_sentence_with_clf(clf, \" \".join(untag(tagged_sentence)))\n",
    "    pred = [t for _, t in predicted_tags]\n",
    "\n",
    "\n",
    "    actual_tags = untag_pos(tagged_sentence)\n",
    "\n",
    "    \n",
    "\n",
    "\n",
    "    # if len(predicted_tags) != len(actual_tags):\n",
    "    #     for i in range(len(actual_tags)):\n",
    "    #         if predicted_tags[i][0] != actual_tags[i][0]:\n",
    "    #             del predicted_tags[i + 1]\n",
    "        \n",
    "    if len(predicted_tags) != len(actual_tags):\n",
    "        # print(predicted_tags)\n",
    "        return (len(predicted_tags) - len(actual_tags)), pred\n",
    "    \n",
    "\n",
    "    errors = 0\n",
    "    for i in range(len(pred)):\n",
    "        if pred[i] != actual_tags[i]:\n",
    "            errors += 1\n",
    "            \n",
    "    return errors, pred"
   ]
  },
  {
   "cell_type": "code",
   "execution_count": 60,
   "metadata": {},
   "outputs": [
    {
     "name": "stdout",
     "output_type": "stream",
     "text": [
      "Number of sentences with errors: 919 out of 2077\n"
     ]
    }
   ],
   "source": [
    "hard_sentences = []\n",
    "for s in test_sentences:\n",
    "    errors, pred = errors_in_sentence_prediction(clf, s)\n",
    "    if errors > 0:\n",
    "        hard_sentences.append((s, errors, pred))\n",
    "print(f'Number of sentences with errors: {len(hard_sentences)} out of {len(test_sentences)}')"
   ]
  },
  {
   "cell_type": "markdown",
   "metadata": {},
   "source": [
    "Draw a histogram showing how the sentences in the test dataset are distributed in terms of prediction errors per sentence."
   ]
  },
  {
   "cell_type": "code",
   "execution_count": 67,
   "metadata": {},
   "outputs": [
    {
     "data": {
      "image/png": "[encoded data removed]",
      "text/plain": [
       "<Figure size 1000x600 with 1 Axes>"
      ]
     },
     "metadata": {},
     "output_type": "display_data"
    }
   ],
   "source": [
    "# Draw a histogram of the number of errors per sentence\n",
    "plt.figure(figsize=(10, 6))\n",
    "plt.hist([x[1] for x in hard_sentences], bins=16, edgecolor='black')\n",
    "plt.title('Number of errors per sentence')\n",
    "plt.xlabel('Number of errors')\n",
    "plt.ylabel('Number of sentences')\n",
    "# plt.yscale('log')\n",
    "plt.grid(axis='y', alpha=0.75)\n",
    "plt.show()"
   ]
  },
  {
   "cell_type": "code",
   "execution_count": 62,
   "metadata": {},
   "outputs": [
    {
     "name": "stdout",
     "output_type": "stream",
     "text": [
      "Stay with me now : John Paul STEVENS delivered the opinion of the Court with respect to Parts I through IV , VI through VI - D - iii , VI - D - v , and VII , in which KENNEDY , SOUTER , GINSBURG , and BREYER joined , and an opinion with respect to Parts V and VI - D - iv , in which SOUTER , GINSBURG , and BREYER joined .\n",
      "Number of errors: 8\n",
      "Stay                     VERB        \n",
      "with                     ADP         \n",
      "me                       PRON        \n",
      "now                      ADV         \n",
      ":                        PUNCT       \n",
      "John                     PROPN       \n",
      "Paul                     PROPN       \n",
      "STEVENS               C: PROPN         P: NOUN         **** Error\n",
      "delivered                VERB        \n",
      "the                      DET         \n",
      "opinion                  NOUN        \n",
      "of                       ADP         \n",
      "the                      DET         \n",
      "Court                    NOUN        \n",
      "with                     ADP         \n",
      "respect                  NOUN        \n",
      "to                       ADP         \n",
      "Parts                 C: NOUN          P: PROPN        **** Error\n",
      "I                     C: NUM           P: PRON         **** Error\n",
      "through                  ADP         \n",
      "IV                    C: NUM           P: NOUN         **** Error\n",
      ",                        PUNCT       \n",
      "VI                       NUM         \n",
      "through                  ADP         \n",
      "VI                       NUM         \n",
      "-                        PUNCT       \n",
      "D                        NOUN        \n",
      "-                        PUNCT       \n",
      "iii                   C: NUM           P: NOUN         **** Error\n",
      ",                        PUNCT       \n",
      "VI                       NUM         \n",
      "-                        PUNCT       \n",
      "D                        NOUN        \n",
      "-                        PUNCT       \n",
      "v                     C: NUM           P: NOUN         **** Error\n",
      ",                        PUNCT       \n",
      "and                      CCONJ       \n",
      "VII                      NUM         \n",
      ",                        PUNCT       \n",
      "in                       ADP         \n",
      "which                    PRON        \n",
      "KENNEDY                  PROPN       \n",
      ",                        PUNCT       \n",
      "SOUTER                   PROPN       \n",
      ",                        PUNCT       \n",
      "GINSBURG                 PROPN       \n",
      ",                        PUNCT       \n",
      "and                      CCONJ       \n",
      "BREYER                   PROPN       \n",
      "joined                   VERB        \n",
      ",                        PUNCT       \n",
      "and                      CCONJ       \n",
      "an                       DET         \n",
      "opinion                  NOUN        \n",
      "with                     ADP         \n",
      "respect                  NOUN        \n",
      "to                       ADP         \n",
      "Parts                 C: NOUN          P: PROPN        **** Error\n",
      "V                        NUM         \n",
      "and                      CCONJ       \n",
      "VI                       NUM         \n",
      "-                        PUNCT       \n",
      "D                        NOUN        \n",
      "-                        PUNCT       \n",
      "iv                    C: NUM           P: NOUN         **** Error\n",
      ",                        PUNCT       \n",
      "in                       ADP         \n",
      "which                    PRON        \n",
      "SOUTER                   PROPN       \n",
      ",                        PUNCT       \n",
      "GINSBURG                 PROPN       \n",
      ",                        PUNCT       \n",
      "and                      CCONJ       \n",
      "BREYER                   PROPN       \n",
      "joined                   VERB        \n",
      ".                        PUNCT       \n",
      "========================================\n",
      "It does n't change the company 's intrinsic worth , and as the article notes , the company might be added to a major index once the shares get more liquid .\n",
      "Number of errors: 6\n",
      "It                       PRON        \n",
      "does                     AUX         \n",
      "n't                      PART        \n",
      "change                   VERB        \n",
      "the                      DET         \n",
      "company                  NOUN        \n",
      "'s                       PART        \n",
      "intrinsic             C: ADJ           P: NOUN         **** Error\n",
      "worth                 C: NOUN          P: ADJ          **** Error\n",
      ",                        PUNCT       \n",
      "and                      CCONJ       \n",
      "as                    C: SCONJ         P: ADP          **** Error\n",
      "the                      DET         \n",
      "article                  NOUN        \n",
      "notes                 C: VERB          P: NOUN         **** Error\n",
      ",                        PUNCT       \n",
      "the                      DET         \n",
      "company                  NOUN        \n",
      "might                    AUX         \n",
      "be                       AUX         \n",
      "added                    VERB        \n",
      "to                       ADP         \n",
      "a                        DET         \n",
      "major                    ADJ         \n",
      "index                    NOUN        \n",
      "once                     SCONJ       \n",
      "the                      DET         \n",
      "shares                   NOUN        \n",
      "get                      VERB        \n",
      "more                  C: ADV           P: ADJ          **** Error\n",
      "liquid                C: ADJ           P: NOUN         **** Error\n",
      ".                        PUNCT       \n",
      "========================================\n",
      "------------------------------\n",
      "Number of errors: 14\n",
      "------------------------------  PUNCT       \n",
      "========================================\n",
      "Vijay K. Suchdev Vice President Equity Derivatives First Union Securities , Inc. Telephone : ( 212 ) 909-0951 Facsimile : ( 212 ) 891-5042 email : vijay.suchdev@funb.com < mailto:vijay.suchdev@funb.com >\n",
      "Number of errors: 6\n",
      "Vijay                    PROPN       \n",
      "K.                       PROPN       \n",
      "Suchdev                  PROPN       \n",
      "Vice                     NOUN        \n",
      "President                NOUN        \n",
      "Equity                   NOUN        \n",
      "Derivatives              NOUN        \n",
      "First                    ADJ         \n",
      "Union                    PROPN       \n",
      "Securities            C: PROPN         P: NOUN         **** Error\n",
      ",                        PUNCT       \n",
      "Inc.                     PROPN       \n",
      "Telephone                NOUN        \n",
      ":                        PUNCT       \n",
      "(                        PUNCT       \n",
      "212                      NUM         \n",
      ")                        PUNCT       \n",
      "909-0951                 NUM         \n",
      "Facsimile                NOUN        \n",
      ":                        PUNCT       \n",
      "(                        PUNCT       \n",
      "212                      NUM         \n",
      ")                        PUNCT       \n",
      "891-5042                 NUM         \n",
      "email                    NOUN        \n",
      ":                        PUNCT       \n",
      "vijay.suchdev@funb.com  C: PROPN         P: X            **** Error\n",
      "<                     C: PUNCT         P: ADP          **** Error\n",
      "mailto:vijay.suchdev@funb.com  PROPN       \n",
      ">                        PUNCT       \n",
      "========================================\n",
      "Ram Tackett , ( mailto:rtackett@abacustech.net ) Owner , Abacus Technologies 17611 Loring Lane , Spring , TX 77388-5746 ( 281 ) 651-7106 ; Fax ( 281 ) 528-8636 Web : http://www.abacustech.net\n",
      "Number of errors: 6\n",
      "Ram                      PROPN       \n",
      "Tackett                  PROPN       \n",
      ",                        PUNCT       \n",
      "(                        PUNCT       \n",
      "mailto:rtackett@abacustech.net  C: PROPN         P: NOUN         **** Error\n",
      ")                        PUNCT       \n",
      "Owner                    NOUN        \n",
      ",                     C: PUNCT         P: ADP          **** Error\n",
      "Abacus                C: PROPN         P: NOUN         **** Error\n",
      "Technologies          C: PROPN         P: PUNCT        **** Error\n",
      "17611                 C: NUM           P: NOUN         **** Error\n",
      "Loring                C: PROPN         P: PUNCT        **** Error\n",
      "Lane                     PROPN       \n",
      ",                     C: PUNCT         P: PROPN        **** Error\n",
      "Spring                C: PROPN         P: NUM          **** Error\n",
      ",                     C: PUNCT         P: VERB         **** Error\n",
      "TX                       PROPN       \n",
      "77388-5746            C: NUM           P: PUNCT        **** Error\n",
      "(                     C: PUNCT         P: NOUN         **** Error\n",
      "281                   C: NUM           P: PUNCT        **** Error\n",
      ")                     C: PUNCT         P: PROPN        **** Error\n",
      "651-7106                 NUM         \n",
      ";                        PUNCT       \n",
      "Fax                   C: NOUN          P: NUM          **** Error\n",
      "(                        PUNCT       \n",
      "281                      NUM         \n",
      ")                        PUNCT       \n",
      "528-8636              C: NUM           P: NOUN         **** Error\n",
      "Web                   C: NOUN          P: PUNCT        **** Error\n",
      ":                     C: PUNCT         P: NUM          **** Error\n",
      "http://www.abacustech.net  C: PROPN         P: PUNCT        **** Error\n",
      "========================================\n",
      "- Ram Tackett ( E-mail ) .vcf 4222\n",
      "Number of errors: 6\n",
      "-                        PUNCT       \n",
      "Ram                   C: NOUN          P: PROPN        **** Error\n",
      "Tackett               C: X             P: PROPN        **** Error\n",
      "(                     C: X             P: PUNCT        **** Error\n",
      "E-mail                C: X             P: NOUN         **** Error\n",
      ")                     C: X             P: PUNCT        **** Error\n",
      ".vcf                  C: X             P: PUNCT        **** Error\n",
      "4222                     NUM         \n",
      "========================================\n",
      "Marvel Consultants , Inc. 28601 Chagrin Blvd. Cleveland , Ohio 44122 USA Email : recruiters@marvelconsultants.com < mailto:recruiters@marvelconsultants.com > Phone : 216-292-2855 Fax : 216-292-7207\n",
      "Number of errors: 7\n",
      "Marvel                   PROPN       \n",
      "Consultants              PROPN       \n",
      ",                        PUNCT       \n",
      "Inc.                     PROPN       \n",
      "28601                    NUM         \n",
      "Chagrin                  PROPN       \n",
      "Blvd.                    PROPN       \n",
      "Cleveland             C: PROPN         P: PUNCT        **** Error\n",
      ",                     C: PUNCT         P: VERB         **** Error\n",
      "Ohio                  C: PROPN         P: PUNCT        **** Error\n",
      "44122                 C: NUM           P: PROPN        **** Error\n",
      "USA                   C: PROPN         P: NUM          **** Error\n",
      "Email                 C: NOUN          P: PROPN        **** Error\n",
      ":                     C: PUNCT         P: NOUN         **** Error\n",
      "recruiters@marvelconsultants.com  C: PROPN         P: PUNCT        **** Error\n",
      "<                     C: PUNCT         P: NOUN         **** Error\n",
      "mailto:recruiters@marvelconsultants.com  C: PROPN         P: ADP          **** Error\n",
      ">                     C: PUNCT         P: PROPN        **** Error\n",
      "Phone                 C: NOUN          P: PUNCT        **** Error\n",
      ":                     C: PUNCT         P: PROPN        **** Error\n",
      "216-292-2855          C: NUM           P: PUNCT        **** Error\n",
      "Fax                      NOUN        \n",
      ":                     C: PUNCT         P: ADP          **** Error\n",
      "216-292-7207          C: NUM           P: PROPN        **** Error\n",
      "========================================\n",
      "Chris Abel Manager , Risk Controls Global Risk Operations chris.abel@enron.com < mailto:chris.abel@enron.com > 713.853.3102\n",
      "Number of errors: 6\n",
      "Chris                    PROPN       \n",
      "Abel                     PROPN       \n",
      "Manager                  NOUN        \n",
      ",                        PUNCT       \n",
      "Risk                  C: NOUN          P: PROPN        **** Error\n",
      "Controls              C: NOUN          P: PROPN        **** Error\n",
      "Global                   ADJ         \n",
      "Risk                  C: NOUN          P: PROPN        **** Error\n",
      "Operations            C: NOUN          P: PROPN        **** Error\n",
      "chris.abel@enron.com     PROPN       \n",
      "<                     C: PUNCT         P: ADP          **** Error\n",
      "mailto:chris.abel@enron.com  PROPN       \n",
      ">                        PUNCT       \n",
      "713.853.3102          C: NUM           P: PROPN        **** Error\n",
      "========================================\n",
      "We have started a new forum for an interactive and absorbing discussion on Astrology & Palmistry and everything in between including Gemology , Feng Shui / Vaastu Shastra .\n",
      "Number of errors: 9\n",
      "We                       PRON        \n",
      "have                     AUX         \n",
      "started                  VERB        \n",
      "a                        DET         \n",
      "new                      ADJ         \n",
      "forum                    NOUN        \n",
      "for                      ADP         \n",
      "an                       DET         \n",
      "interactive              ADJ         \n",
      "and                      CCONJ       \n",
      "absorbing             C: ADJ           P: VERB         **** Error\n",
      "discussion               NOUN        \n",
      "on                       ADP         \n",
      "Astrology             C: NOUN          P: PROPN        **** Error\n",
      "&                        CCONJ       \n",
      "Palmistry             C: NOUN          P: PROPN        **** Error\n",
      "and                      CCONJ       \n",
      "everything               PRON        \n",
      "in                       ADP         \n",
      "between                  ADP         \n",
      "including                VERB        \n",
      "Gemology              C: NOUN          P: PROPN        **** Error\n",
      ",                        PUNCT       \n",
      "Feng                  C: NOUN          P: PROPN        **** Error\n",
      "Shui                  C: NOUN          P: PROPN        **** Error\n",
      "/                     C: SYM           P: PUNCT        **** Error\n",
      "Vaastu                C: NOUN          P: PROPN        **** Error\n",
      "Shastra               C: NOUN          P: PROPN        **** Error\n",
      ".                        PUNCT       \n",
      "========================================\n",
      "Twinkle Twinkle lazy star Kitna soyega uthja yaar , up above the world so high , sun has risen in the sky , uthke jaldi pee le chai , then call me up and say \" HI \"\n",
      "Number of errors: 14\n",
      "Twinkle               C: VERB          P: PROPN        **** Error\n",
      "Twinkle               C: VERB          P: PROPN        **** Error\n",
      "lazy                     ADJ         \n",
      "star                     NOUN        \n",
      "Kitna                 C: X             P: PROPN        **** Error\n",
      "soyega                C: X             P: PROPN        **** Error\n",
      "uthja                 C: X             P: NOUN         **** Error\n",
      "yaar                  C: X             P: NOUN         **** Error\n",
      ",                        PUNCT       \n",
      "up                    C: ADV           P: ADP          **** Error\n",
      "above                    ADP         \n",
      "the                      DET         \n",
      "world                    NOUN        \n",
      "so                       ADV         \n",
      "high                  C: ADV           P: ADJ          **** Error\n",
      ",                        PUNCT       \n",
      "sun                      NOUN        \n",
      "has                      AUX         \n",
      "risen                    VERB        \n",
      "in                       ADP         \n",
      "the                      DET         \n",
      "sky                      NOUN        \n",
      ",                        PUNCT       \n",
      "uthke                 C: X             P: ADJ          **** Error\n",
      "jaldi                 C: X             P: PROPN        **** Error\n",
      "pee                   C: X             P: NOUN         **** Error\n",
      "le                    C: X             P: NOUN         **** Error\n",
      "chai                  C: X             P: NOUN         **** Error\n",
      ",                        PUNCT       \n",
      "then                     ADV         \n",
      "call                     VERB        \n",
      "me                       PRON        \n",
      "up                       ADP         \n",
      "and                      CCONJ       \n",
      "say                      VERB        \n",
      "\"                        PUNCT       \n",
      "HI                    C: INTJ          P: PROPN        **** Error\n",
      "\"                        PUNCT       \n",
      "========================================\n",
      "[ http://www.reuters.co.uk/newsPackageArticle.jhtml?type=worldNews&storyID=624569&section=news ]\n",
      "Number of errors: 8\n",
      "[                        PUNCT       \n",
      "http://www.reuters.co.uk/newsPackageArticle.jhtml?type=worldNews&storyID=624569&section=news  PROPN       \n",
      "]                        PUNCT       \n",
      "========================================\n",
      "which burger chain do you think is as good as in n out or better in the chicago area besides five guys and smashburger ?\n",
      "Number of errors: 7\n",
      "which                 C: DET           P: PRON         **** Error\n",
      "burger                   NOUN        \n",
      "chain                    NOUN        \n",
      "do                       AUX         \n",
      "you                      PRON        \n",
      "think                    VERB        \n",
      "is                       AUX         \n",
      "as                       ADV         \n",
      "good                     ADJ         \n",
      "as                       ADP         \n",
      "in                    C: PROPN         P: ADV          **** Error\n",
      "n                     C: CCONJ         P: PART         **** Error\n",
      "out                   C: PROPN         P: VERB         **** Error\n",
      "or                       CCONJ       \n",
      "better                   ADJ         \n",
      "in                       ADP         \n",
      "the                      DET         \n",
      "chicago                  PROPN       \n",
      "area                     NOUN        \n",
      "besides                  ADP         \n",
      "five                  C: PROPN         P: NUM          **** Error\n",
      "guys                  C: PROPN         P: NOUN         **** Error\n",
      "and                      CCONJ       \n",
      "smashburger           C: PROPN         P: ADJ          **** Error\n",
      "?                        PUNCT       \n",
      "========================================\n",
      "I 've been looking at the bose sound dock 10 i ve currently got a jvc mini hifi system , i was wondering what would be a good set of speakers .\n",
      "Number of errors: 6\n",
      "I                        PRON        \n",
      "'ve                      AUX         \n",
      "been                     AUX         \n",
      "looking                  VERB        \n",
      "at                       ADP         \n",
      "the                      DET         \n",
      "bose                  C: PROPN         P: NOUN         **** Error\n",
      "sound                 C: PROPN         P: NOUN         **** Error\n",
      "dock                  C: PROPN         P: NOUN         **** Error\n",
      "10                       NUM         \n",
      "i                        PRON        \n",
      "ve                    C: AUX           P: VERB         **** Error\n",
      "currently                ADV         \n",
      "got                      VERB        \n",
      "a                        DET         \n",
      "jvc                   C: PROPN         P: NOUN         **** Error\n",
      "mini                  C: X             P: ADJ          **** Error\n",
      "hifi                     NOUN        \n",
      "system                   NOUN        \n",
      ",                        PUNCT       \n",
      "i                        PRON        \n",
      "was                      AUX         \n",
      "wondering                VERB        \n",
      "what                     PRON        \n",
      "would                    AUX         \n",
      "be                       AUX         \n",
      "a                        DET         \n",
      "good                     ADJ         \n",
      "set                      NOUN        \n",
      "of                       ADP         \n",
      "speakers                 NOUN        \n",
      ".                        PUNCT       \n",
      "========================================\n",
      "which is the best burger chain in the chicago metro area like for example burger king portillo s white castle which one do you like the best ?\n",
      "Number of errors: 9\n",
      "which                    PRON        \n",
      "is                       AUX         \n",
      "the                      DET         \n",
      "best                     ADJ         \n",
      "burger                   NOUN        \n",
      "chain                    NOUN        \n",
      "in                       ADP         \n",
      "the                      DET         \n",
      "chicago                  PROPN       \n",
      "metro                 C: ADJ           P: PROPN        **** Error\n",
      "area                     NOUN        \n",
      "like                  C: INTJ          P: ADP          **** Error\n",
      "for                      ADP         \n",
      "example                  NOUN        \n",
      "burger                C: PROPN         P: NOUN         **** Error\n",
      "king                  C: PROPN         P: NOUN         **** Error\n",
      "portillo              C: PROPN         P: NOUN         **** Error\n",
      "s                        PART        \n",
      "white                    ADJ         \n",
      "castle                C: PROPN         P: NOUN         **** Error\n",
      "which                 C: DET           P: PRON         **** Error\n",
      "one                   C: NOUN          P: PRON         **** Error\n",
      "do                       AUX         \n",
      "you                      PRON        \n",
      "like                     VERB        \n",
      "the                      DET         \n",
      "best                  C: ADV           P: ADJ          **** Error\n",
      "?                        PUNCT       \n",
      "========================================\n",
      "Here is the stocking for my 150 gallon tank i upgraded it to 200 at the weekend because of the clownloach A 200 gallon with 6 pairs of Breeding Angel fish fire mouth honey Gouramis 5 8 inch clownloach a Krib and 5 1 inch clown loach with 16 cory cats 5 Australian Rainbows\n",
      "Number of errors: 6\n",
      "Here                     ADV         \n",
      "is                       AUX         \n",
      "the                      DET         \n",
      "stocking                 NOUN        \n",
      "for                      ADP         \n",
      "my                       PRON        \n",
      "150                      NUM         \n",
      "gallon                   NOUN        \n",
      "tank                     NOUN        \n",
      "i                        PRON        \n",
      "upgraded                 VERB        \n",
      "it                       PRON        \n",
      "to                       ADP         \n",
      "200                      NUM         \n",
      "at                       ADP         \n",
      "the                      DET         \n",
      "weekend                  NOUN        \n",
      "because                  ADP         \n",
      "of                       ADP         \n",
      "the                      DET         \n",
      "clownloach               NOUN        \n",
      "A                        DET         \n",
      "200                      NUM         \n",
      "gallon                   NOUN        \n",
      "with                     ADP         \n",
      "6                        NUM         \n",
      "pairs                    NOUN        \n",
      "of                       ADP         \n",
      "Breeding              C: NOUN          P: PROPN        **** Error\n",
      "Angel                 C: NOUN          P: PROPN        **** Error\n",
      "fish                     NOUN        \n",
      "fire                     NOUN        \n",
      "mouth                    NOUN        \n",
      "honey                    NOUN        \n",
      "Gouramis              C: NOUN          P: PROPN        **** Error\n",
      "5                        NUM         \n",
      "8                        NUM         \n",
      "inch                     NOUN        \n",
      "clownloach               NOUN        \n",
      "a                        DET         \n",
      "Krib                  C: NOUN          P: PROPN        **** Error\n",
      "and                      CCONJ       \n",
      "5                        NUM         \n",
      "1                        NUM         \n",
      "inch                     NOUN        \n",
      "clown                 C: NOUN          P: ADJ          **** Error\n",
      "loach                    NOUN        \n",
      "with                     ADP         \n",
      "16                       NUM         \n",
      "cory                     NOUN        \n",
      "cats                     NOUN        \n",
      "5                        NUM         \n",
      "Australian               ADJ         \n",
      "Rainbows              C: NOUN          P: PROPN        **** Error\n",
      "========================================\n",
      "ALL OF THE TEACHERS THERE ARE SO MEAN THEY GET MAD AT YOU FOR NOTHING !!!!!!!!!!!!!!!!!!!\n",
      "Number of errors: 18\n",
      "ALL                      DET         \n",
      "OF                       ADP         \n",
      "THE                      DET         \n",
      "TEACHERS                 NOUN        \n",
      "THERE                 C: ADV           P: PRON         **** Error\n",
      "ARE                   C: AUX           P: VERB         **** Error\n",
      "SO                       ADV         \n",
      "MEAN                     ADJ         \n",
      "THEY                     PRON        \n",
      "GET                      VERB        \n",
      "MAD                   C: ADJ           P: NOUN         **** Error\n",
      "AT                       ADP         \n",
      "YOU                      PRON        \n",
      "FOR                      ADP         \n",
      "NOTHING                  PRON        \n",
      "!!!!!!!!!!!!!!!!!!!      PUNCT       \n",
      "========================================\n"
     ]
    }
   ],
   "source": [
    "# Show prediction errors for sentences with more than 5 errors.\n",
    "for s in hard_sentences:\n",
    "    if s[1] > 5 and s[1] < 20:\n",
    "        print(\" \".join(untag(s[0])))\n",
    "        print('Number of errors:', s[1])\n",
    "        for i in range(len(s[0])):\n",
    "            if s[0][i][1] != s[2][i]:\n",
    "                print(f'{s[0][i][0]:<20}  C: {s[0][i][1]:<12}  P: {s[2][i]:<12} **** Error')\n",
    "            else:\n",
    "                print(f'{s[0][i][0]:<23}  {s[0][i][1]:<12}')\n",
    "        print(40*'=')\n"
   ]
  },
  {
   "cell_type": "markdown",
   "metadata": {},
   "source": [
    "## "
   ]
  },
  {
   "cell_type": "markdown",
   "metadata": {},
   "source": [
    "## Error Analysis\n",
    "\n",
    "1. Identify tokens that are misclassified more than 10 times in the test set. Print the sentences where the errors are predicted (about 100 sentences).\n",
    "2. Provide a possible reason why these errors are made by the tagger based on your understanding of the knowledge needed to correctly tag these tokens.\n",
    "3. Based on this error analysis, invent five sentences that are badly tagged. Explain what is your method to create these hard examples.\n"
   ]
  },
  {
   "cell_type": "markdown",
   "metadata": {},
   "source": [
    "## answers:\n",
    "\n",
    "1. see below\n",
    "\n",
    "2. ambiguity of the single word, words that can have different tags depending on the sentance context are badly tagged by our classifier, for example: \"take ....... *out*\" vs \"The movie is *out* now in theaters.\" \n",
    "   this is because the feature vectors has little infomation of the sentance context,\n",
    "   and most of the features depend only on the word itself (maybe on the neighbours).\n",
    "   because of the sparsness of a train dataset we get some badly tagged words, as '/'. If the training data doesn't cover certain patterns well then model won't know how to define them.\n",
    "\n",
    "   Some words were segmented incorrectly like 'Arghhh!' was segmented as 2 tokens by the classifier vs 1 token in the dataset, this creates an error, that we didn't focuse on, such cases were excluded from overal answer, beause it is an error of the classifier and not the tagger itself.\n",
    "\n",
    "3. \"Flying planes can be dangerous.\"\n",
    "   (Flying is a noun in the context of a \"flying plane\", model thinks that it's a verb as a plane that fly)\n",
    "\n",
    "   Can you can a can as a canner can can a can?\n",
    "   (One before last can is a noun, but model thinks it's a verb)\n",
    "\n",
    "   \"He will book a room tomorrow.\"\n",
    "   (\"book\" is a verb, not a noun!)\n",
    "\n",
    "\n",
    "   \"They saw her duck under the table.\"\n",
    "   (\"duck\" is a verb here, not a noun.)\n",
    "\n",
    "   \"She escaped through the dense and misty forest\"\n",
    "   (dence is a adjective, connected to the forest, model recognize it as a noun)\n",
    "   \n",
    "\n",
    "\n",
    "   Explanation:\n",
    "   We focused on the ambiguty, and placed words and their dependency far from eachover"
   ]
  },
  {
   "cell_type": "markdown",
   "metadata": {},
   "source": []
  },
  {
   "cell_type": "code",
   "execution_count": 69,
   "metadata": {},
   "outputs": [
    {
     "name": "stdout",
     "output_type": "stream",
     "text": [
      "[('What', 'PRON'), ('if', 'SCONJ'), ('Google', 'PROPN'), ('expanded', 'VERB'), ('on', 'ADP'), ('its', 'PRON'), ('search', 'NOUN'), ('-', 'PUNCT'), ('engine', 'NOUN'), ('(', 'PUNCT'), ('and', 'CCONJ'), ('now', 'ADV'), ('e-mail', 'NOUN'), (')', 'PUNCT'), ('wares', 'NOUN'), ('into', 'ADP'), ('a', 'DET'), ('full', 'ADV'), ('-', 'PUNCT'), ('fledged', 'ADJ'), ('operating', 'NOUN'), ('system', 'NOUN'), ('?', 'PUNCT')]\n",
      "3\n",
      "[np.str_('PRON'), np.str_('SCONJ'), np.str_('PROPN'), np.str_('VERB'), np.str_('ADP'), np.str_('PRON'), np.str_('NOUN'), np.str_('PUNCT'), np.str_('NOUN'), np.str_('PUNCT'), np.str_('CCONJ'), np.str_('ADV'), np.str_('NOUN'), np.str_('PUNCT'), np.str_('VERB'), np.str_('ADP'), np.str_('DET'), np.str_('ADJ'), np.str_('PUNCT'), np.str_('VERB'), np.str_('NOUN'), np.str_('NOUN'), np.str_('PUNCT')]\n",
      "out\n",
      "to\n",
      "as\n",
      "/\n",
      "that\n",
      "in\n",
      "for\n",
      "up\n",
      "like\n",
      "01-Feb-02\n",
      "out: 17 errors\n",
      "Clean store , friendly check - out staff up front .\n",
      "========================================\n",
      "I have a friend out in Chicago this week , and I am trying to remember the name of an awesome hibachi style restaurant i visited while out there a couple years ago .\n",
      "========================================\n",
      "I doubt the very few who actually read my blog have not come across this yet , but I figured I would put it out there anyways .\n",
      "========================================\n",
      "By late 1974 investors were dizzy , they were desperate , they were wrung - out , they had left Wall Street , many left for good .\n",
      "========================================\n",
      "in n out of the chicago area ?\n",
      "========================================\n",
      "i would like to have one of those super random surprisingly nice nights out ... suggestions ?\n",
      "========================================\n",
      "If you believe crackpot theories instead of focusing on the reality -- that was an al - Qaeda operation mainly carried out by al - Gamaa al - Islamiyyah , an Egyptian terrorist component allied with Bin Laden -- then you will concentrate on the wrong threat .\n",
      "========================================\n",
      "We order take out from here all the time and we are never disappointed .\n",
      "========================================\n",
      "The door is easy to use and it keeps the cold out during the winter .\n",
      "========================================\n",
      "which burger chain do you think is as good as in n out or better in the chicago area besides five guys and smashburger ?\n",
      "========================================\n",
      "Maybe it 's true that life begins at fifty ... but everything else starts to wear out , fall out , or spread out .\n",
      "========================================\n",
      "this dentist want to pull the tooth out always .. always wants to do the cheapest for his benefit .. not unless he knows you .\n",
      "========================================\n",
      "I 'm under 21 + and looking for a nice place to take my boyfriend out for dinner where they play music and there is a dance floor .\n",
      "========================================\n",
      "Hi , i 'm looking to take myself and my best friend and his girl friend and this girl i really like out to dinner for my birthday .\n",
      "========================================\n",
      "to: 20 errors\n",
      "Any of the tip - top places have great ice - cream , get them to mix it up .\n",
      "========================================\n",
      "yet again it was a great stay from begiinning to end .\n",
      "========================================\n",
      "it was a little to high dollar for me\n",
      "========================================\n",
      "it is to late for me to add changes .\n",
      "========================================\n",
      "Web giant Google is resisting an attempt by the US to force it to reveal what users are searching for .\n",
      "========================================\n",
      "Every now and then she stops to breathe .\n",
      "========================================\n",
      "Perhaps , we should start with just a 1 or 2 day contract where I give some thoughts to the kind of issues that we discussed and come to Houston to present my preliminary thoughts and possible avenues for additional work .\n",
      "========================================\n",
      "Let aggressive ( American ) leaders and soldiers know that we are capable of protecting the city 's security and safety , and ask them to lift their hands from the city . \"\n",
      "========================================\n",
      "\" ... to gaze at Wei 's art is like entering a floating world of dreams . \"\n",
      "========================================\n",
      "You 'll be able to use your 1 - 4 years of experience with Toxic Tort to complement your desire to stay with the firm .\n",
      "========================================\n",
      "They want to use LTS to tie into NASA 's vision for Space Exploration , and seem pleased that the White House is moving in that direction .\n",
      "========================================\n",
      "do n't forget to use a calcium supplement twice a week ; captive reptiles are prone to calcium deficiency .\n",
      "========================================\n",
      "Restaurant on top was renovated , food was decent , price was way to high for Duluth for quality , new decor seems tacky\n",
      "========================================\n",
      "\" While we do n't have anything specific to announce today , Google and the Wikimedia Foundation are collaboratively evaluating creative ways to support Wikipedia.org and its community . \"\n",
      "========================================\n",
      "By April of '71 the Dow had climbed back to 950 , only to fall to 869 in February of '72 .\n",
      "========================================\n",
      "Quality has fallen over the years , but still the best go - to burger place on the East Bay .\n",
      "========================================\n",
      "He was very clean , very nice to work with and gave a very reasonable price .\n",
      "========================================\n",
      "Posted by Anthony Beavers to Cognitive Science News at 8/28/2005 07:18:20 AM\n",
      "========================================\n",
      "that deal is making like it wants to close and the traders scheduled a 430 call to wrap it up\n",
      "========================================\n",
      "Or how about visiting the Chicago Botanical Gardens and see the change of colors and enjoy the air , They also have many inside exhibits you might enjoy , food is pretty good to .\n",
      "========================================\n",
      "as: 19 errors\n",
      "Lunar landers and other gear needed for extended visits to the moon will be lofted by gargantuan launchers as big as the Apollo - era Saturn 5 , the most powerful rockets ever flown .\n",
      "========================================\n",
      "NASA is planning on using these new shuttles to replace the current models , with industry forecasters predicting a launch as early as 2014 .\n",
      "========================================\n",
      "The decision to sidestep the obvious to satisfy the need to avoid confrontation does not bring peace , but only delays the eventual conflict as the predators of Hamas and Hezbollah exploit the inherent weakness of the internationals and the media .\n",
      "========================================\n",
      "Monotheism and Holy War obviously does have a violent interpretation of Salafism , rather as the the leaders of the so - called German Peasant Rebellion among early Protestants did .\n",
      "========================================\n",
      "My canon t2i stops working at times as in the power bottom is switched to \" on \" but the camera does not respond to any function .\n",
      "========================================\n",
      "KENNEDY filed an opinion concurring in part , in which SOUTER , GINSBURG , and BREYER joined as to Parts I and II .\n",
      "========================================\n",
      "ALITO filed a dissenting opinion , in which SCALIA and THOMAS joined as to Parts I through III .\n",
      "========================================\n",
      "as R - G said , there are only 16 in an American one .\n",
      "========================================\n",
      "THOMAS filed a dissenting opinion , in which SCALIA joined , and in which ALITO joined as to all but Parts I , II - C - 1 , and III - B - 2 .\n",
      "========================================\n",
      "If you mean fluid ounces , 20 , as opposed to the 16 in America .\n",
      "========================================\n",
      "Please confidentially share matters as you think best and advise me of the interest generated .\n",
      "========================================\n",
      "This morning 's paper reports that a rate increase of 40 % may be imposed by the CDWR as early as today and the new bond issue amount is purported to be 16 billion ( rather than the 10 initially discussed )\n",
      "========================================\n",
      "Opinions , conclusions and other information in this message that do not relate to the official business of my firm shall be understood as neither given nor endorsed by it .\n",
      "========================================\n",
      "Just wanted you to know that Eric came by as scheduled today and sprayed our house for scorpions .\n",
      "========================================\n",
      "It looks as if NASA is transitioning away from the shuttle model , as in the past they have proven to be quite dangerous as Columbia has recently proved .\n",
      "========================================\n",
      "It does n't change the company 's intrinsic worth , and as the article notes , the company might be added to a major index once the shares get more liquid .\n",
      "========================================\n",
      "This acceptance of blatantly terrorist groups as legitimate freedom movements is a cancerous tumor on the United Nations and the media .\n",
      "========================================\n",
      "/: 17 errors\n",
      "Teco Tap 32.500 / HPL IFERC ; 20.000 / Enron\n",
      "========================================\n",
      "We have started a new forum for an interactive and absorbing discussion on Astrology & Palmistry and everything in between including Gemology , Feng Shui / Vaastu Shastra .\n",
      "========================================\n",
      "It actually needs to be relatively waterproof - the last one I bought had me soaked in anything more than light / moderate rain .\n",
      "========================================\n",
      "Susanna is the best dress maker / tailor I 've ever come across in my whole life !\n",
      "========================================\n",
      "I 'm looking for a camera that has really good zoom during a video and pictures ; and good quality pictures / videos\n",
      "========================================\n",
      "Paula has an amazing gift for creativity , vision and the ability to combine art to / with commercial purpose .\n",
      "========================================\n",
      "I get that careless teenager kind of treatment from some of their staff ... perhaps they should hire more serious adults to help serve / cook .\n",
      "========================================\n",
      "Teco Tap 108.333 / HPL IFERC ; 20.000 / Enron\n",
      "========================================\n",
      "Teco Tap 85.000 / HPL IFERC ; 20.000 / Enron\n",
      "========================================\n",
      "In addition , is there someone who could consider the correlation between US CPI and the $ / euro exchange rate .\n",
      "========================================\n",
      "Important news such as President Bush 's miniscule calibrations on his marriage amendment / anti-gay ( update : he 's not against gays in the bedroom , just at the altar , where of course their relationships should not only be frowned upon but should be constitutionally excluded ) has pushed Sudan not just off the front pages , or the A section , but out of the NY Times and Washington Post completely .\n",
      "========================================\n",
      "Sanctuary serves delicious , somewhat healthy food in a great restaurant / fast food style .\n",
      "========================================\n",
      "LS HPL LSK IC 20.000 / Enron\n",
      "========================================\n",
      "In the Episode \" So in Louvre Are We Two \" , How many diffrent painting / scupltures are their and who are the artists ?\n",
      "========================================\n",
      "Also very friendly and the stylists are not in the \" been there / done that \" mood !\n",
      "========================================\n",
      "that: 20 errors\n",
      "So hear we are , two weeks later , after that dazzling PR display two weeks ago by Powell and Annan , and the situation on the ground in Darfur appears basically unchanged .\n",
      "========================================\n",
      "Unfortunately , I will be in Plano that weekend .\n",
      "========================================\n",
      "Have you seen the materials from the press conference that he launched today ?\n",
      "========================================\n",
      "The consolidation of smaller local radical fundamentalist groups with al - Qaeda can also be seen in the case of the Fizazi group in Tangiers that morphed into the Moroccan Islamic Combatant Group , had members who met with September 11 ringleader Muhammad Atta , and ultimately was in part responsible for the Madrid train bombings .\n",
      "========================================\n",
      "Well , they have a variety of sports that they play like basketball , soccer , etc .\n",
      "========================================\n",
      "He 's not giving 85 % away , he 's giving a number of shares each year that decrease in number at the rate of 5 % a year ( until gone ? ) .\n",
      "========================================\n",
      "And international donors have given only half of the relief aid that Darfur needs , according to the local UN officials .\n",
      "========================================\n",
      "One little boy stands up and offers that , \" if my best friend who lives next door was playing in the street when a car came along and killed him , that would be a tragedy \" .\n",
      "========================================\n",
      "If the statement is true , it is a worrying sign that even the divided small radical guerrilla groups are being \" picked up \" by al - Qaeda .\n",
      "========================================\n",
      "Any particular shop that you know of AND their number .\n",
      "========================================\n",
      "The Pentagon did not even have a plan for dealing with Afghanistan or al - Qaeda that it could pull off the shelf , according to Bob Woodward .\n",
      "========================================\n",
      "i was thinking somewhere that requires a jacket , like tony 's .\n",
      "========================================\n",
      "Yes , it s that good .\n",
      "========================================\n",
      "Wiki Media Foundation , the group behind the Wikipedia online encyclopedia project , said Friday that search giant Google has volunteered to host some of its content on company servers .\n",
      "========================================\n",
      "We will forward the draft of that guaranty to you later today .\n",
      "========================================\n",
      "The thing about The Script is they do not sound that Irish , I was surprised to hear they were from Dublin .\n",
      "========================================\n",
      "Attached is a spreadsheet that contains the values .\n",
      "========================================\n",
      "We still have the traders and books that you provided last week , but need to know if there are any changes to this .\n",
      "========================================\n",
      "i tried to say i was n't that drunk but z was n't having any of that conversation .\n",
      "========================================\n",
      "This was a risk that we had but we did have assurances from Phillips regarding performance .\n",
      "========================================\n",
      "in: 17 errors\n",
      "quick in & out .\n",
      "========================================\n",
      "Thank you for your help in tracking these invoices .\n",
      "========================================\n",
      "The company gets busy but you never have to wait long because they ARE orginizied , so you are in , out , and paid well for your scrap\n",
      "========================================\n",
      "He listens and is excellent in diagnosing , addressing and explaining the specific issues and suggesting exercises to use .\n",
      "========================================\n",
      "\" We are so excited that the White House and the recent new government space policy underscores the need to involve the private sector in assisting NASA develop its plans for the new Vision for Space Exploration , \" said Walter Kistler , LTS co-founder and Chairman .\n",
      "========================================\n",
      "in n out of the chicago area ?\n",
      "========================================\n",
      "MAD means crazy , or angry , so you do a lot with it , i would put a gorrilla screaming , just the face , and just throw in a lot of brushes fifferent colors , make it look artistic .\n",
      "========================================\n",
      "Clinton had worked out a deal with Pakistani Prime Minister Nawaz Sharif in summer of 1999 that would have allowed the US to send a Special Ops team in after Bin Laden in Qandahar , based from Pakistan .\n",
      "========================================\n",
      "Over three years after 9-11 , the United Nations , despite their attempts to project strength in fighting terrorism , still can not properly define the word \" terrorist \" , waffling over the issue of whether the murder of innocent civilians are terrorist acts .\n",
      "========================================\n",
      "You will find these helpful in writing a new slogan .\n",
      "========================================\n",
      "Of course , you could just go in by main force .\n",
      "========================================\n",
      "which burger chain do you think is as good as in n out or better in the chicago area besides five guys and smashburger ?\n",
      "========================================\n",
      "the camera only begins to work again when i take out the battery and put it back in .\n",
      "========================================\n",
      "My canon t2i stops working at times as in the power bottom is switched to \" on \" but the camera does not respond to any function .\n",
      "========================================\n",
      "I presume you need the Pakistan base for rescue operations in case anything went wrong .\n",
      "========================================\n",
      "I was wondering if it would be OK for me to sit in with you one day to get a general feel of your end of the process .\n",
      "========================================\n",
      "Musharraf told Clinton he could n't use Pakistani soil or air space to send the team in against Bin Laden .\n",
      "========================================\n",
      "for: 18 errors\n",
      "My wife and I would love for you to come and visit our page\n",
      "========================================\n",
      "just pray for her ad=nd try to hlep your dog and do some physical therapy on the hind legs and take her to the vet and ig it costs a whole lot ask hlep from you friends and family adn since she s not eating feed her by hand\n",
      "========================================\n",
      "In a communique , the AMS said that for Iraqis to take part with \" raiding forces \" in the assault on a city , the population of which is Muslim ( such as Fallujah ) would be considered the most mortal of mortal sins .\n",
      "========================================\n",
      "Would love for you to join us .\n",
      "========================================\n",
      "They offer an exceptional compensation package including a healthy salary , comprehensive benefits program , and ample room for associates to grow within the firm .\n",
      "========================================\n",
      "' Everything is for the best in the best of all possible worlds if only no artificial hindrances are put in the way of free exchange , for demand and supply will regulate everything better than any Government would be able to . '\n",
      "========================================\n",
      "Pretty spendy for really not great quality\n",
      "========================================\n",
      "PS - we also have more cats coming in for re-homing see our ' Homes Wanted ' page\n",
      "========================================\n",
      "How much would it cost for me to take me and three friends to Andiamo s restaurant for dinner ?\n",
      "========================================\n",
      "The goal is for him to move on with his life and for us to move on as well .\n",
      "========================================\n",
      "I really want to go to andiamo s for my birthday and i was just wondering how much it would cost for the four of us to eat there\n",
      "========================================\n",
      "it is to late for me to add changes .\n",
      "========================================\n",
      "I was wondering if it would be OK for me to sit in with you one day to get a general feel of your end of the process .\n",
      "========================================\n",
      "I know it s in the wrong catagory , but still , I wrote this question for a reason , not for you to critisize me .\n",
      "========================================\n",
      "Along with an area on the page for those to join the mailing list .\n",
      "========================================\n",
      "He seemed to understand how important it was for us to make sure the whole house was sprayed so he took his time .\n",
      "========================================\n",
      "up: 17 errors\n",
      "Clean store , friendly check - out staff up front .\n",
      "========================================\n",
      "i wish the other utilities i had to set up had people to work with like this ..\n",
      "========================================\n",
      "enron is blowing up .\n",
      "========================================\n",
      "pairing up of harry and ginny is cool\n",
      "========================================\n",
      "Dick could never thereafter get any real cooperation from the cabinet officers , who outranked him , and he could not convince them to go to battle stations in the summer of 2001 when George Tenet 's hair was \" on fire \" about the excited chatter the CIA was picking up from radical Islamist terrorists .\n",
      "========================================\n",
      "In a timid voice , he says : \" If an airplane carrying Winston Peters was blown up by a bomb , THAT would be a tragedy \" .\n",
      "========================================\n",
      "The workers sped up and down the street with no mind to the small children playing .\n",
      "========================================\n",
      "Twinkle Twinkle lazy star Kitna soyega uthja yaar , up above the world so high , sun has risen in the sky , uthke jaldi pee le chai , then call me up and say \" HI \"\n",
      "========================================\n",
      "I heard that more may be going up for sale in the next month or do .\n",
      "========================================\n",
      "wow , the representative went way above and beyond in helping me with my account set up .\n",
      "========================================\n",
      "One little boy stands up and offers that , \" if my best friend who lives next door was playing in the street when a car came along and killed him , that would be a tragedy \" .\n",
      "========================================\n",
      "I need a new lawnmower , so I 'll try to bump it up a little more .\n",
      "========================================\n",
      "It would be great if the person from CHANT who started this page would put up a short description of the campaign and a list to this group page on the Action Network site .\n",
      "========================================\n",
      "If the statement is true , it is a worrying sign that even the divided small radical guerrilla groups are being \" picked up \" by al - Qaeda .\n",
      "========================================\n",
      "Of THESE three , it 's a toss - up between Royal and Carnival .\n",
      "========================================\n",
      "why is enron blowing up ?\n",
      "========================================\n",
      "They picked my car up in Yarmouth and towed to Bath for a great price .\n",
      "========================================\n",
      "like: 21 errors\n",
      "They are probably especially oriented toward the Salafi school of modern Islamic thought , which has a Protestant - like emphasis on going back to the original practice of the early companions of the Prophet Muhammad .\n",
      "========================================\n",
      "Here in Indiana I think it 's like $ 3 or $ 4 for a meal .\n",
      "========================================\n",
      "It sounds like a firmware issue and the camera requires a re-boot just like what happens in a computer - needs a re-start from time to time but it should n't be happening in a camera .\n",
      "========================================\n",
      "It looks like The Lunar Transportation Systems , Inc. is visualizing a \" space highway \" going from the moon to Earth ( and back again ) .\n",
      "========================================\n",
      "Well , they have a variety of sports that they play like basketball , soccer , etc .\n",
      "========================================\n",
      "which is the best burger chain in the chicago metro area like for example burger king portillo s white castle which one do you like the best ?\n",
      "========================================\n",
      "Feels like you are in Brooklyn , but people watching is entertaining .\n",
      "========================================\n",
      "has life like animal wholesale figurines made from rabbit and goat fur , feathers and sheep s wool .\n",
      "========================================\n",
      "We look forward to your active participation to make this forum an exciting meeting place for like minded individuals .\n",
      "========================================\n",
      "They are like family .\n",
      "========================================\n",
      "Fried rice has NO flavor , it literally taste like water .\n",
      "========================================\n",
      "i was thinking somewhere that requires a jacket , like tony 's .\n",
      "========================================\n",
      "Looks like the kids had a great time !\n",
      "========================================\n",
      "like what ?\n",
      "========================================\n",
      "Worst experience ever like a sardine can and the bartender downstairs is the rudest person I have ever met .\n",
      "========================================\n",
      "The waiting staff is really friendly , it s like every one knows each other , the manager is really sweet and the food .. well no complaints from me .\n",
      "========================================\n",
      "My pharmacy order is always correct and promptly delivered but the pharmacy staff are always very short with me and do n't seem to like answering questions .\n",
      "========================================\n",
      "i would like more bands like them pleasseee\n",
      "========================================\n",
      "that deal is making like it wants to close and the traders scheduled a 430 call to wrap it up\n",
      "========================================\n",
      "With their proposal of a \" Earth - Moon \" highway , it looks like space tourism may become a reality sooner than we think .\n",
      "========================================\n",
      "someplace that is like $ 30 an entree .\n",
      "========================================\n",
      "01-Feb-02: 11 errors\n",
      "EY4108.I PERFORMANCE 01-Feb-02 P - 10,274,494 - $ 166,960\n",
      "========================================\n",
      "EY4096.1 PERFORMANCE 01-Feb-02 P 6,363,217 - $ 250,393\n",
      "========================================\n",
      "EY4106.7 PERFORMANCE 01-Feb-02 P 1,993,045 - $ 43,548\n",
      "========================================\n",
      "EY4108.F PERFORMANCE 01-Feb-02 P 112,610 $ 110,555\n",
      "========================================\n",
      "EY4096.4 PERFORMANCE 01-Feb-02 F 0 $ 31,180\n",
      "========================================\n",
      "EY4108.H PERFORMANCE 01-Feb-02 P - 2,239,879 - $ 36,398\n",
      "========================================\n",
      "EY4106.9 PERFORMANCE 01-Feb-02 P 27,886 $ 27,361\n",
      "========================================\n",
      "EY4096.3 PERFORMANCE 01-Feb-02 P 202,989 $ 195,610\n",
      "========================================\n",
      "EY4108.E PERFORMANCE 01-Feb-02 P 12,514,373 - $ 265,932\n",
      "========================================\n",
      "EY4096.7 PERFORMANCE 01-Feb-02 P - 6,363,217 - $ 55,678\n",
      "========================================\n",
      "EY4106.6 PERFORMANCE 01-Feb-02 P - 1,993,045 - $ 32,387\n",
      "========================================\n"
     ]
    }
   ],
   "source": [
    "print(hard_sentences[0][0])\n",
    "print(hard_sentences[0][1])\n",
    "print(hard_sentences[0][2])\n",
    "\n",
    "hard_tokens = {}\n",
    "\n",
    "for s, _ , preds in hard_sentences:\n",
    "    if len(preds) != len(s):\n",
    "        continue\n",
    "\n",
    "    for i in range(len(preds)):\n",
    "        word = s[i][0]\n",
    "        predicted_tag = preds[i]\n",
    "        actual_tag = s[i][1]\n",
    "        if predicted_tag != actual_tag:\n",
    "            if word not in hard_tokens:\n",
    "                hard_tokens[word] = [0 , set()]\n",
    "            hard_tokens[word][0] += 1\n",
    "            hard_tokens[word][1].add(\" \".join(untag(s)))\n",
    "\n",
    "        \n",
    "\n",
    "# print words with more than 10 errors\n",
    "hard_tokens = {k: v for k, v in hard_tokens.items() if v[0] > 10}\n",
    "for k,_ in hard_tokens.items():\n",
    "    print(k)\n",
    "\n",
    "for k, v in hard_tokens.items():\n",
    "    print(f'{k}: {v[0]} errors')\n",
    "    for sentence in v[1]:\n",
    "        print(sentence)\n",
    "        print(40*'=')\n",
    "\n"
   ]
  },
  {
   "cell_type": "code",
   "execution_count": 55,
   "metadata": {},
   "outputs": [
    {
     "name": "stdout",
     "output_type": "stream",
     "text": [
      "Input sentence: Flying planes can be dangerous.\n",
      "Predicted tags: [('Flying', np.str_('VERB')), ('planes', np.str_('NOUN')), ('can', np.str_('AUX')), ('be', np.str_('AUX')), ('dangerous', np.str_('ADJ')), ('.', np.str_('PUNCT'))]\n",
      "========================================\n",
      "Input sentence: john every single morning books a room.\n",
      "Predicted tags: [('john', np.str_('NOUN')), ('every', np.str_('DET')), ('single', np.str_('ADJ')), ('morning', np.str_('NOUN')), ('books', np.str_('NOUN')), ('a', np.str_('DET')), ('room', np.str_('NOUN')), ('.', np.str_('PUNCT'))]\n",
      "========================================\n",
      "Input sentence: Can you can a can as a canner can can a can?\n",
      "Predicted tags: [('Can', np.str_('AUX')), ('you', np.str_('PRON')), ('can', np.str_('AUX')), ('a', np.str_('DET')), ('can', np.str_('NOUN')), ('as', np.str_('ADP')), ('a', np.str_('DET')), ('canner', np.str_('NOUN')), ('can', np.str_('AUX')), ('can', np.str_('AUX')), ('a', np.str_('DET')), ('can', np.str_('NOUN')), ('?', np.str_('PUNCT'))]\n",
      "========================================\n",
      "Input sentence: They saw her duck under the table.\n",
      "Predicted tags: [('They', np.str_('PRON')), ('saw', np.str_('VERB')), ('her', np.str_('PRON')), ('duck', np.str_('NOUN')), ('under', np.str_('ADP')), ('the', np.str_('DET')), ('table', np.str_('NOUN')), ('.', np.str_('PUNCT'))]\n",
      "========================================\n",
      "Input sentence: She escaped through the dense and misty forest\n",
      "Predicted tags: [('She', np.str_('PRON')), ('escaped', np.str_('VERB')), ('through', np.str_('ADP')), ('the', np.str_('DET')), ('dense', np.str_('NOUN')), ('and', np.str_('CCONJ')), ('misty', np.str_('ADJ')), ('forest', np.str_('NOUN'))]\n",
      "========================================\n"
     ]
    }
   ],
   "source": [
    "# check my invented sentences \n",
    "\n",
    "input_sentences = [\"Flying planes can be dangerous.\",\n",
    "                    \"john every single morning books a room.\",\n",
    "                    \"Can you can a can as a canner can can a can?\",\n",
    "                    \"They saw her duck under the table.\",\n",
    "                    \"She escaped through the dense and misty forest\"]\n",
    "\n",
    "\n",
    "for sentence in input_sentences:\n",
    "    print(f\"Input sentence: {sentence}\")\n",
    "    prediction = predict_sentence_with_clf(clf, sentence)\n",
    "    print(\"Predicted tags:\", prediction)\n",
    "    print(40*'=')"
   ]
  }
 ],
 "metadata": {
  "kernelspec": {
   "display_name": ".venv",
   "language": "python",
   "name": "python3"
  },
  "language_info": {
   "codemirror_mode": {
    "name": "ipython",
    "version": 3
   },
   "file_extension": ".py",
   "mimetype": "text/x-python",
   "name": "python",
   "nbconvert_exporter": "python",
   "pygments_lexer": "ipython3",
   "version": "3.13.3"
  }
 },
 "nbformat": 4,
 "nbformat_minor": 2
}
